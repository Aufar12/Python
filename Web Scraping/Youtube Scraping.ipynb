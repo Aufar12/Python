{
 "cells": [
  {
   "cell_type": "code",
   "execution_count": null,
   "metadata": {},
   "outputs": [],
   "source": [
    "from selenium import webdriver\n",
    "# from selenium.webdriver.common.action_chains import ActionChains\n",
    "# from selenium.webdriver.common.by import By\n",
    "# from selenium.webdriver.support.ui import WebDriverWait\n",
    "# from selenium.webdriver.support import expected_conditions as ec\n",
    "from selenium.webdriver.common.keys import Keys\n",
    "import time\n",
    "\n",
    "driver=webdriver.Chrome()\n",
    "kosong = \"              \"\n",
    "search = input('Search... ')\n",
    "driver.get('https://www.youtube.com/results?search_query=' +search)\n",
    "\n",
    "# link = driver.find_element_by_xpath('/html/body/ytd-app/div/ytd-page-manager/ytd-search/div[1]/ytd-two-column-search-results-renderer/div/ytd-section-list-renderer/div[2]/ytd-item-section-renderer/div[3]/ytd-video-renderer[1]/div[1]/div')\n",
    "# link.click()\n",
    "\n",
    "print('Pilih video')\n",
    "\n",
    "for i in range(20, 0, -1):\n",
    "    time.sleep(1)\n",
    "    print('Countdown : ', end=\" \")\n",
    "    if(i < 10):\n",
    "        print('0' +str(i), end=\"\\r\")\n",
    "    else:\n",
    "        print(i, end=\"\\r\")\n",
    "\n",
    "print('Done' + kosong)\n",
    "driver.execute_script('window.scrollTo(1, 500);')\n",
    "#now wait let load the comments\n",
    "time.sleep(5)\n",
    "\n",
    "index = 1;\n",
    "\n",
    "a = 'No'\n",
    "\n",
    "def commentSaved():\n",
    "    comment_div = driver.find_element_by_xpath('//*[@id=\"contents\"]')\n",
    "    comments  = comment_div.find_elements_by_xpath('//*[@id=\"content-text\"]')\n",
    "    return comments\n",
    "                                          \n",
    "while(a != 'Yes'):\n",
    "    index1 = 0;\n",
    "    while(index1 < 5): #Scroll sebanyak 5 kali\n",
    "        driver.execute_script('window.scrollTo(1, 500);')\n",
    "#         driver.execute_script('window.scrollTo(1, document.body.scrollHeight);')\n",
    "        time.sleep(1)\n",
    "        driver.find_element_by_tag_name('body').send_keys(Keys.END)\n",
    "        index1 += 1\n",
    "    temp = commentSaved()\n",
    "    print(\"Total Comments : \" + str(len(temp)))\n",
    "    if(len(temp) > 500):\n",
    "        a = 'Yes'\n",
    "    \n",
    "#     #Nanya stop setiap 5 kali ngesave komen\n",
    "#     print(\"Total Comments : \" + str(len(temp)))\n",
    "#     if((index%5) == 0):\n",
    "#         a = input('Stop? ')\n",
    "#     index += 1\n",
    "    \n",
    "print(\"Udah\")\n",
    "\n",
    "array = []\n",
    "comments = commentSaved()\n",
    "for comment in comments:\n",
    "    array.append(comment.text)\n"
   ]
  },
  {
   "cell_type": "code",
   "execution_count": 2,
   "metadata": {
    "scrolled": true
   },
   "outputs": [
    {
     "name": "stdout",
     "output_type": "stream",
     "text": [
      "506\n"
     ]
    },
    {
     "data": {
      "text/html": [
       "<div>\n",
       "<style scoped>\n",
       "    .dataframe tbody tr th:only-of-type {\n",
       "        vertical-align: middle;\n",
       "    }\n",
       "\n",
       "    .dataframe tbody tr th {\n",
       "        vertical-align: top;\n",
       "    }\n",
       "\n",
       "    .dataframe thead th {\n",
       "        text-align: right;\n",
       "    }\n",
       "</style>\n",
       "<table border=\"1\" class=\"dataframe\">\n",
       "  <thead>\n",
       "    <tr style=\"text-align: right;\">\n",
       "      <th></th>\n",
       "      <th>Comments</th>\n",
       "    </tr>\n",
       "  </thead>\n",
       "  <tbody>\n",
       "    <tr>\n",
       "      <td>0</td>\n",
       "      <td>Nokia lovers like here👇👇</td>\n",
       "    </tr>\n",
       "    <tr>\n",
       "      <td>1</td>\n",
       "      <td>Other phones: dust and water resistant\\n\\nNoki...</td>\n",
       "    </tr>\n",
       "    <tr>\n",
       "      <td>2</td>\n",
       "      <td>When battery life was 1 week. Now you’re lucky...</td>\n",
       "    </tr>\n",
       "    <tr>\n",
       "      <td>3</td>\n",
       "      <td>iPhone 11: Falls to the floor, breaks the scre...</td>\n",
       "    </tr>\n",
       "    <tr>\n",
       "      <td>4</td>\n",
       "      <td>1:01 the legend was created</td>\n",
       "    </tr>\n",
       "    <tr>\n",
       "      <td>...</td>\n",
       "      <td>...</td>\n",
       "    </tr>\n",
       "    <tr>\n",
       "      <td>501</td>\n",
       "      <td>6700,7500,2600,x2-02,6300,c1 = my Nokia phones</td>\n",
       "    </tr>\n",
       "    <tr>\n",
       "      <td>502</td>\n",
       "      <td>And Nokia X2-02?</td>\n",
       "    </tr>\n",
       "    <tr>\n",
       "      <td>503</td>\n",
       "      <td>It's 2019 and they are still tempting</td>\n",
       "    </tr>\n",
       "    <tr>\n",
       "      <td>504</td>\n",
       "      <td>Когда то самий популярных телефон</td>\n",
       "    </tr>\n",
       "    <tr>\n",
       "      <td>505</td>\n",
       "      <td>Lumia 532?</td>\n",
       "    </tr>\n",
       "  </tbody>\n",
       "</table>\n",
       "<p>506 rows × 1 columns</p>\n",
       "</div>"
      ],
      "text/plain": [
       "                                              Comments\n",
       "0                             Nokia lovers like here👇👇\n",
       "1    Other phones: dust and water resistant\\n\\nNoki...\n",
       "2    When battery life was 1 week. Now you’re lucky...\n",
       "3    iPhone 11: Falls to the floor, breaks the scre...\n",
       "4                          1:01 the legend was created\n",
       "..                                                 ...\n",
       "501     6700,7500,2600,x2-02,6300,c1 = my Nokia phones\n",
       "502                                   And Nokia X2-02?\n",
       "503              It's 2019 and they are still tempting\n",
       "504                  Когда то самий популярных телефон\n",
       "505                                         Lumia 532?\n",
       "\n",
       "[506 rows x 1 columns]"
      ]
     },
     "execution_count": 2,
     "metadata": {},
     "output_type": "execute_result"
    }
   ],
   "source": [
    "import pandas as pd\n",
    "print(len(array))\n",
    "FinalA = pd.DataFrame({\"Comments\": array})\n",
    "FinalA.head(len(array))"
   ]
  },
  {
   "cell_type": "code",
   "execution_count": 3,
   "metadata": {},
   "outputs": [],
   "source": [
    "# with pd.ExcelWriter(r'C:\\Users\\Aufar\\Documents\\edm\\Data2Reynie.xlsx') as Aufar:  # doctest: +SKIP\n",
    "#     FinalA.to_excel(Aufar, sheet_name='Nokia unforgettable memory - ALL Nokia Mobils 1994 to 2018')\n",
    "FinalA.to_csv(r'C:\\Users\\Aufar\\Documents\\edm\\DataAufar.csv')"
   ]
  },
  {
   "cell_type": "code",
   "execution_count": 4,
   "metadata": {},
   "outputs": [
    {
     "data": {
      "text/plain": [
       "'NvDyZLOyD1o'"
      ]
     },
     "execution_count": 4,
     "metadata": {},
     "output_type": "execute_result"
    }
   ],
   "source": [
    "import urllib.parse as up\n",
    "url_data = up.urlparse(\"https://www.youtube.com/watch?v=NvDyZLOyD1o\")\n",
    "query = up.parse_qs(url_data.query)\n",
    "video = query[\"v\"][0]\n",
    "video"
   ]
  }
 ],
 "metadata": {
  "kernelspec": {
   "display_name": "Python 3",
   "language": "python",
   "name": "python3"
  },
  "language_info": {
   "codemirror_mode": {
    "name": "ipython",
    "version": 3
   },
   "file_extension": ".py",
   "mimetype": "text/x-python",
   "name": "python",
   "nbconvert_exporter": "python",
   "pygments_lexer": "ipython3",
   "version": "3.7.4"
  }
 },
 "nbformat": 4,
 "nbformat_minor": 2
}
