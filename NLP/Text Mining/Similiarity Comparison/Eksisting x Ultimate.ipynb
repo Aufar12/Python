{
 "cells": [
  {
   "cell_type": "code",
   "execution_count": 123,
   "metadata": {},
   "outputs": [
    {
     "name": "stdout",
     "output_type": "stream",
     "text": [
      "SHEET 1 - DATA USERS\n",
      "Total Data Sheet 1 Ultimate : 678\n",
      "Total Data Sheet 1 Eksisting : 678\n",
      "Selisih Data : 0\n"
     ]
    }
   ],
   "source": [
    "import numpy as np\n",
    "import pandas as pd\n",
    "\n",
    "Sheet1Ulti = pd.read_csv(r\"C:\\Users\\Aufar\\Desktop\\edm\\ultimate\\m_users-ultimate.csv\", error_bad_lines=False, encoding='latin-1')\n",
    "Sheet1Ulti = Sheet1Ulti[['fullname', 'email', 'ktp', 'address']]\n",
    "Sheet1Ulti = Sheet1Ulti.dropna()\n",
    "Sheet1Ulti.columns = ['fullname', 'email', 'ktp', 'address']\n",
    "\n",
    "Sheet1Eksi = pd.read_csv(r\"C:\\Users\\Aufar\\Desktop\\edm\\eksisting\\m_pelamar-eks.csv\", error_bad_lines=False, encoding='latin-1')\n",
    "Sheet1Eksi = Sheet1Eksi[['nama_lengkap', 'email', 'no_ktp', 'alamat_domisili']]\n",
    "Sheet1Eksi = Sheet1Eksi.dropna()\n",
    "Sheet1Eksi.columns = ['fullname', 'email', 'ktp', 'address']\n",
    "\n",
    "print(\"SHEET 1 - DATA USERS\")\n",
    "print(\"Total Data Sheet 1 Ultimate : \" + str(len(Sheet1Ulti)))\n",
    "print(\"Total Data Sheet 1 Eksisting : \" + str(len(Sheet1Eksi)))\n",
    "print(\"Selisih Data : \" + str(len(Sheet1Ulti) - len(Sheet1Eksi)))\n",
    "\n",
    "# Sheet1Ulti.head(678)\n",
    "# Sheet1Eksi.head(678)"
   ]
  },
  {
   "cell_type": "code",
   "execution_count": 124,
   "metadata": {},
   "outputs": [
    {
     "name": "stdout",
     "output_type": "stream",
     "text": [
      "Beda Nama Lengkap : []\n",
      "Beda Email : []\n",
      "Beda KTP : []\n",
      "Beda Alamat : []\n",
      "\n",
      "Kesimpulan : Data Eksisting dan Ultimate sama Persis pada Sheet 1\n"
     ]
    }
   ],
   "source": [
    "fullnameEksi = [] #ambil data fullname Eksisting Sheet 1\n",
    "fullnameUlti = [] #ambil data fullname Ultimate Sheet 1\n",
    "emailEksi = [] #ambil data email Eksisting Sheet 1\n",
    "emailUlti = [] #ambil data email Ultimate Sheet 1\n",
    "ktpEksi = [] #ambil data KTP Eksisting Sheet 1\n",
    "ktpUlti = [] #ambil data KTP Ultimate Sheet 1\n",
    "alamatEksi = [] #ambil data alamat Eksisting Sheet 1\n",
    "alamatUlti = [] #ambil data alamat Ultimate Sheet 1\n",
    "\n",
    "\n",
    "for i in Sheet1Eksi['fullname'] :\n",
    "     fullnameEksi.append(i)\n",
    "\n",
    "for i in Sheet1Ulti['fullname'] :\n",
    "     fullnameUlti.append(i)\n",
    "\n",
    "for i in Sheet1Eksi['email'] :\n",
    "     emailEksi.append(i)\n",
    "\n",
    "for i in Sheet1Ulti['email'] :\n",
    "     emailUlti.append(i)\n",
    "        \n",
    "for i in Sheet1Eksi['ktp'] :\n",
    "     ktpEksi.append(i)\n",
    "\n",
    "for i in Sheet1Ulti['ktp'] :\n",
    "     ktpUlti.append(i)\n",
    "        \n",
    "for i in Sheet1Eksi['address'] :\n",
    "     alamatEksi.append(i)\n",
    "\n",
    "for i in Sheet1Ulti['address'] :\n",
    "     alamatUlti.append(i)\n",
    "\n",
    "bedaFullnameSheet1 = [] #menampung data jika ditemukan ada yg berbeda\n",
    "bedaEmailSheet1 = [] #menampung data jika ditemukan ada yg berbeda\n",
    "bedaKtpSheet1 = [] #menampung data jika ditemukan ada yg berbeda\n",
    "bedaAddressSheet1 = [] #menampung data jika ditemukan ada yg berbeda\n",
    "\n",
    "for i in fullnameUlti :\n",
    "    if((i in fullnameEksi) == False):\n",
    "        bedaFullnameSheet1.append(i)\n",
    "    \n",
    "for i in emailUlti :\n",
    "    if((i in emailEksi) == False):\n",
    "        bedaEmailSheet1.append(i)\n",
    "        \n",
    "for i in ktpUlti :\n",
    "    if((i in ktpEksi) == False):\n",
    "        bedaKtpSheet1.append(i)\n",
    "        \n",
    "for i in alamatEksi :\n",
    "    if((i in alamatUlti) == False):\n",
    "        bedaAddressSheet1.append(i)\n",
    "        \n",
    "print(\"Beda Nama Lengkap : \"+ str(bedaFullnameSheet1))   \n",
    "print(\"Beda Email : \" + str(bedaEmailSheet1))\n",
    "print(\"Beda KTP : \" + str(bedaKtpSheet1))   \n",
    "print(\"Beda Alamat : \" + str(bedaAddressSheet1))\n",
    "print(\"\")\n",
    "\n",
    "\n",
    "if(((bedaFullnameSheet1) == []) and ((bedaEmailSheet1) == []) \n",
    "   and ((bedaKtpSheet1) == []) and ((bedaAddressSheet1) == [])) :\n",
    "    print(\"Kesimpulan : Data Eksisting dan Ultimate sama Persis pada Sheet 1\")\n",
    "else :\n",
    "    print(\"Kesimpulan : Terdapat Perbedaan Data Eksisting dan Ultimate pada Sheet 1\")"
   ]
  },
  {
   "cell_type": "code",
   "execution_count": 125,
   "metadata": {},
   "outputs": [
    {
     "name": "stdout",
     "output_type": "stream",
     "text": [
      "SHEET 2 - DATA CONTACT USERS\n",
      "Total Data Sheet 2 Ultimate : 666\n",
      "Total Data Sheet 2 Eksisting : 678\n",
      "Selisih Data : 12\n"
     ]
    }
   ],
   "source": [
    "Sheet2Ulti = pd.read_csv(r\"C:\\Users\\Aufar\\Desktop\\edm\\ultimate\\m_pelamar_contact-ultimate.csv\" ,error_bad_lines=False, encoding='latin-1')\n",
    "Sheet2Ulti = Sheet2Ulti[['nama_lengkap', 'no_telepon']]\n",
    "Sheet2Ulti = Sheet2Ulti.dropna()\n",
    "Sheet2Ulti.columns = ['fullname', 'telepon'] \n",
    "\n",
    "Sheet2Eksi = pd.read_csv(r\"C:\\Users\\Aufar\\Desktop\\edm\\eksisting\\m_pelamar_contact-eks.csv\" ,  error_bad_lines=False, encoding='latin-1')\n",
    "Sheet2Eksi = Sheet2Eksi[['nama_lengkap', 'no_telepon']]\n",
    "Sheet2Eksi = Sheet2Eksi.dropna()\n",
    "Sheet2Eksi.columns = ['fullname', 'telepon']\n",
    "\n",
    "print(\"SHEET 2 - DATA CONTACT USERS\")\n",
    "print(\"Total Data Sheet 2 Ultimate : \" + str(len(Sheet2Ulti)))\n",
    "print(\"Total Data Sheet 2 Eksisting : \" + str(len(Sheet2Eksi)))\n",
    "print(\"Selisih Data : \" + str(len(Sheet2Eksi) - len(Sheet2Ulti)))\n",
    "\n",
    "#Sheet2Ulti.head(666)\n",
    "#Sheet2Eksi.head(678)"
   ]
  },
  {
   "cell_type": "code",
   "execution_count": 126,
   "metadata": {},
   "outputs": [
    {
     "name": "stdout",
     "output_type": "stream",
     "text": [
      "Beda Nama Lengkap : ['ADI KARTIKA', 'Agus Kriswanto', 'ANITA SYLVIANA', 'ARIS YUNAL FIRDAUS', 'Bambang Tjiptoroso', 'Erwati', 'Irmawita', 'Iskandar ', 'Isma Rizky', 'Kiki', 'Sukardi', 'YUDHI PERMATA YANDA']\n",
      "\n",
      "Beda Telepon : ['081255667300', '082141279469', '085265549225', '081378937675', '081334291000', '085278990328', '081371001255', '081312123749', '+62 821-8771-4085', '085228010271', '081327405421', '081276000076']\n",
      "\n",
      "Kesimpulan : Terdapat Perbedaan Data Eksisting dan Ultimate pada Sheet 2\n"
     ]
    }
   ],
   "source": [
    "fullnameEksi = [] #ambil data fullname Eksisting Sheet 2\n",
    "fullnameUlti = [] #ambil data fullname Ultimate Sheet 2\n",
    "teleponEksi = [] #ambil data telepon Eksisting Sheet 2\n",
    "teleponUlti = [] #ambil data telepon Ultimate Sheet 2\n",
    "\n",
    "for i in Sheet2Eksi['fullname'] :\n",
    "     fullnameEksi.append(i)\n",
    "\n",
    "for i in Sheet2Ulti['fullname'] :\n",
    "     fullnameUlti.append(i)\n",
    "        \n",
    "for i in Sheet2Eksi['telepon'] :\n",
    "     teleponEksi.append(i)\n",
    "\n",
    "for i in Sheet2Ulti['telepon'] :\n",
    "     teleponUlti.append(i)\n",
    "\n",
    "bedaFullnameSheet2 = [] #menampung data jika ditemukan ada yg berbeda\n",
    "bedaTeleponSheet2 = [] #menampung data jika ditemukan ada yg berbeda\n",
    "\n",
    "for i in fullnameEksi :\n",
    "    if((i in fullnameUlti) == False):\n",
    "        bedaFullnameSheet2.append(i)\n",
    "    \n",
    "for i in teleponEksi :\n",
    "    if((i in teleponUlti) == False):\n",
    "        bedaTeleponSheet2.append(i)\n",
    "        \n",
    "print(\"Beda Nama Lengkap : \"+ str(bedaFullnameSheet2))   \n",
    "print(\"\")\n",
    "print(\"Beda Telepon : \" + str(bedaTeleponSheet2))\n",
    "print(\"\")\n",
    "\n",
    "\n",
    "if(((bedaFullnameSheet2) == []) and ((bedaTeleponSheet2) == [])) :\n",
    "    print(\"Kesimpulan : Data Eksisting dan Ultimate sama Persis pada Sheet 2\")\n",
    "else :\n",
    "    print(\"Kesimpulan : Terdapat Perbedaan Data Eksisting dan Ultimate pada Sheet 2\")"
   ]
  },
  {
   "cell_type": "code",
   "execution_count": 127,
   "metadata": {},
   "outputs": [
    {
     "name": "stdout",
     "output_type": "stream",
     "text": [
      "ULTIMATE : \n",
      "Empty DataFrame\n",
      "Columns: [fullname, telepon]\n",
      "Index: []\n",
      "-----------\n",
      "EKSISTING : \n",
      "                fullname            telepon\n",
      "8            ADI KARTIKA       081255667300\n",
      "18        Agus Kriswanto       082141279469\n",
      "52        ANITA SYLVIANA       085265549225\n",
      "66    ARIS YUNAL FIRDAUS       081378937675\n",
      "85    Bambang Tjiptoroso       081334291000\n",
      "164               Erwati       085278990328\n",
      "266             Irmawita       081371001255\n",
      "268            Iskandar        081312123749\n",
      "269           Isma Rizky  +62 821-8771-4085\n",
      "298                 Kiki       085228010271\n",
      "581              Sukardi       081327405421\n",
      "661  YUDHI PERMATA YANDA       081276000076\n"
     ]
    }
   ],
   "source": [
    "print(\"ULTIMATE : \")\n",
    "print(Sheet2Ulti.loc[Sheet2Ulti['fullname'].isin(bedaFullnameSheet2)])\n",
    "print(\"-----------\")\n",
    "print(\"EKSISTING : \")\n",
    "print(Sheet2Eksi.loc[Sheet2Eksi['fullname'].isin(bedaFullnameSheet2)])\n",
    "Sheet2 = pd.DataFrame({\"Nama Lengkap\" : bedaFullnameSheet2, \"Telepon\" : bedaTeleponSheet2})"
   ]
  },
  {
   "cell_type": "code",
   "execution_count": 128,
   "metadata": {},
   "outputs": [
    {
     "name": "stdout",
     "output_type": "stream",
     "text": [
      "SHEET 3 - DATA PENDIDIKAN USERS\n",
      "Total Data Sheet 3 Ultimate : 842\n",
      "Total Data Sheet 3 Eksisting : 842\n",
      "Selisih Data : 0\n"
     ]
    }
   ],
   "source": [
    "Sheet3Ulti = pd.read_csv(r\"C:\\Users\\Aufar\\Desktop\\edm\\ultimate\\m_pelamar_education-ultimate.csv\", error_bad_lines=False, encoding='latin-1')\n",
    "Sheet3Ulti = Sheet3Ulti[['fullname', 'nama_jenjang_pendidikan', 'jurusan_text', 'current_gpa']]\n",
    "Sheet3Ulti = Sheet3Ulti.dropna()\n",
    "Sheet3Ulti.columns = ['fullname', 'pendidikan', 'jurusan', 'ipk']\n",
    "\n",
    "Sheet3Eksi = pd.read_csv(r\"C:\\Users\\Aufar\\Desktop\\edm\\eksisting\\m_pelamar_education-eks.csv\", error_bad_lines=False, encoding='latin-1')\n",
    "Sheet3Eksi = Sheet3Eksi[['nama_lengkap', 'nama_sekolah', 'jurusan', 'ipk']]\n",
    "Sheet3Eksi = Sheet3Eksi.dropna()\n",
    "Sheet3Eksi.columns = ['fullname', 'pendidikan', 'jurusan', 'ipk']\n",
    "\n",
    "print(\"SHEET 3 - DATA PENDIDIKAN USERS\")\n",
    "print(\"Total Data Sheet 3 Ultimate : \" + str(len(Sheet3Ulti)))\n",
    "print(\"Total Data Sheet 3 Eksisting : \" + str(len(Sheet3Eksi)))\n",
    "print(\"Selisih Data : \" + str(len(Sheet3Ulti) - len(Sheet3Eksi)))\n",
    "\n",
    "# Sheet3Ulti.head(842)\n",
    "# Sheet3Eksi.head(842)"
   ]
  },
  {
   "cell_type": "code",
   "execution_count": 129,
   "metadata": {},
   "outputs": [
    {
     "name": "stdout",
     "output_type": "stream",
     "text": [
      "Beda Nama Lengkap : []\n",
      "Beda Strata : []\n",
      "Beda Jurusan : ['981', '944', '1511', '760']\n",
      "Beda IPK : []\n",
      "\n",
      "Kesimpulan : Terdapat Perbedaan Data Eksisting dan Ultimate pada Sheet 3\n"
     ]
    }
   ],
   "source": [
    "fullnameEksi = [] #ambil data fullname Eksisting Sheet 3\n",
    "fullnameUlti = [] #ambil data fullname Ultimate Sheet 3\n",
    "strataEksi = [] #ambil data strata Eksisting Sheet 3\n",
    "strataUlti = [] #ambil data strata Ultimate Sheet 3\n",
    "jurusanEksi = [] #ambil data jurusan Eksisting Sheet 3\n",
    "jurusanUlti = [] #ambil data jurusan Ultimate Sheet 3\n",
    "ipkEksi = [] #ambil data ipk Eksisting Sheet 3\n",
    "ipkUlti = [] #ambil data ipk Ultimate Sheet 3\n",
    "\n",
    "\n",
    "for i in Sheet3Eksi['fullname'] :\n",
    "     fullnameEksi.append(i)\n",
    "\n",
    "for i in Sheet3Ulti['fullname'] :\n",
    "     fullnameUlti.append(i)\n",
    "\n",
    "for i in Sheet3Eksi['pendidikan'] :\n",
    "     strataEksi.append(i)\n",
    "\n",
    "for i in Sheet3Ulti['pendidikan'] :\n",
    "     strataUlti.append(i)\n",
    "        \n",
    "for i in Sheet3Eksi['jurusan'] :\n",
    "     jurusanEksi.append(i)\n",
    "\n",
    "for i in Sheet3Ulti['jurusan'] :\n",
    "     jurusanUlti.append(i)\n",
    "        \n",
    "for i in Sheet3Eksi['ipk'] :\n",
    "     ipkEksi.append(i)\n",
    "\n",
    "for i in Sheet3Ulti['ipk'] :\n",
    "     ipkUlti.append(i)\n",
    "\n",
    "bedaFullnameSheet3 = [] #menampung data jika ditemukan ada yg berbeda\n",
    "bedaStrataSheet3 = [] #menampung data jika ditemukan ada yg berbeda\n",
    "bedaJurusanSheet3 = [] #menampung data jika ditemukan ada yg berbeda\n",
    "bedaIpkSheet3 = [] #menampung data jika ditemukan ada yg berbeda\n",
    "\n",
    "\n",
    "for i in fullnameUlti :\n",
    "    if((i in fullnameEksi) == False):\n",
    "        bedaFullnameSheet3.append(i)\n",
    "    \n",
    "for i in strataUlti :\n",
    "    if((i in strataEksi) == False):\n",
    "        bedaStrataSheet3.append(i)\n",
    "        \n",
    "for i in jurusanUlti :\n",
    "    if((i in jurusanEksi) == False):\n",
    "        bedaJurusanSheet3.append(i)\n",
    "        \n",
    "for i in ipkEksi :\n",
    "    if((i in ipkUlti) == False):\n",
    "        bedaIpkSheet3.append(i)\n",
    "        \n",
    "print(\"Beda Nama Lengkap : \"+ str(bedaFullnameSheet3))   \n",
    "print(\"Beda Strata : \" + str(bedaStrataSheet3))\n",
    "print(\"Beda Jurusan : \" + str(bedaJurusanSheet3))   \n",
    "print(\"Beda IPK : \" + str(bedaIpkSheet3))\n",
    "print(\"\")\n",
    "\n",
    "\n",
    "if(((bedaFullnameSheet3) == []) and ((bedaStrataSheet3) == []) \n",
    "   and ((bedaJurusanSheet3) == []) and ((bedaIpkSheet3) == [])) :\n",
    "    print(\"Kesimpulan : Data Eksisting dan Ultimate sama Persis pada Sheet 3\")\n",
    "else :\n",
    "    print(\"Kesimpulan : Terdapat Perbedaan Data Eksisting dan Ultimate pada Sheet 3\")"
   ]
  },
  {
   "cell_type": "code",
   "execution_count": 130,
   "metadata": {},
   "outputs": [
    {
     "name": "stdout",
     "output_type": "stream",
     "text": [
      "                       fullname               pendidikan jurusan   ipk\n",
      "201             Dede Nurhidayat   Universitas Diponegoro     981  2.88\n",
      "516  Muhammad Destrayuda Trisna  Universitas Gadjah Mada     944  3.47\n",
      "517  Muhammad Destrayuda Trisna  Universitas Gadjah Mada    1511  3.84\n",
      "540      Muhammad Iman Nasution    Universitas Indonesia     760  2.98\n"
     ]
    },
    {
     "data": {
      "text/html": [
       "<div>\n",
       "<style scoped>\n",
       "    .dataframe tbody tr th:only-of-type {\n",
       "        vertical-align: middle;\n",
       "    }\n",
       "\n",
       "    .dataframe tbody tr th {\n",
       "        vertical-align: top;\n",
       "    }\n",
       "\n",
       "    .dataframe thead th {\n",
       "        text-align: right;\n",
       "    }\n",
       "</style>\n",
       "<table border=\"1\" class=\"dataframe\">\n",
       "  <thead>\n",
       "    <tr style=\"text-align: right;\">\n",
       "      <th></th>\n",
       "      <th>fullname</th>\n",
       "      <th>pendidikan</th>\n",
       "      <th>jurusan</th>\n",
       "      <th>ipk</th>\n",
       "    </tr>\n",
       "  </thead>\n",
       "  <tbody>\n",
       "    <tr>\n",
       "      <th>201</th>\n",
       "      <td>Dede Nurhidayat</td>\n",
       "      <td>Universitas Diponegoro</td>\n",
       "      <td>Teknik Sipil</td>\n",
       "      <td>2.88</td>\n",
       "    </tr>\n",
       "    <tr>\n",
       "      <th>516</th>\n",
       "      <td>Muhammad Destrayuda Trisna</td>\n",
       "      <td>Universitas Gadjah Mada</td>\n",
       "      <td>Teknik Geologi</td>\n",
       "      <td>3.47</td>\n",
       "    </tr>\n",
       "    <tr>\n",
       "      <th>517</th>\n",
       "      <td>Muhammad Destrayuda Trisna</td>\n",
       "      <td>Universitas Gadjah Mada</td>\n",
       "      <td>Teknik Geologi</td>\n",
       "      <td>3.84</td>\n",
       "    </tr>\n",
       "    <tr>\n",
       "      <th>540</th>\n",
       "      <td>Muhammad Iman Nasution</td>\n",
       "      <td>Universitas Indonesia</td>\n",
       "      <td>Akuntansi</td>\n",
       "      <td>2.98</td>\n",
       "    </tr>\n",
       "  </tbody>\n",
       "</table>\n",
       "</div>"
      ],
      "text/plain": [
       "                       fullname               pendidikan         jurusan   ipk\n",
       "201             Dede Nurhidayat   Universitas Diponegoro    Teknik Sipil  2.88\n",
       "516  Muhammad Destrayuda Trisna  Universitas Gadjah Mada  Teknik Geologi  3.47\n",
       "517  Muhammad Destrayuda Trisna  Universitas Gadjah Mada  Teknik Geologi  3.84\n",
       "540      Muhammad Iman Nasution    Universitas Indonesia       Akuntansi  2.98"
      ]
     },
     "execution_count": 130,
     "metadata": {},
     "output_type": "execute_result"
    }
   ],
   "source": [
    "Sheet3 = pd.DataFrame({\"Jurusan di Ultimate\" : bedaJurusanSheet3})\n",
    "\n",
    "print(Sheet3Ulti.loc[Sheet3Ulti['jurusan'].isin(bedaJurusanSheet3)])\n",
    "sheet3 =(Sheet3Ulti.loc[Sheet3Ulti['jurusan'].isin(bedaJurusanSheet3)])\n",
    "Sheet3Eksi.loc[[201,516,517,540]]"
   ]
  },
  {
   "cell_type": "code",
   "execution_count": 131,
   "metadata": {},
   "outputs": [
    {
     "name": "stdout",
     "output_type": "stream",
     "text": [
      "SHEET 4 - DATA JABATAN USERS\n",
      "Total Data Sheet 4 Ultimate : 2387\n",
      "Total Data Sheet 4 Eksisting : 2389\n",
      "Selisih Data : 2\n"
     ]
    }
   ],
   "source": [
    "Sheet4Ulti = pd.read_csv(r\"C:\\Users\\Aufar\\Desktop\\edm\\ultimate\\m_pelamar_keluarga-ultimate.csv\", error_bad_lines=False, encoding='latin-1')\n",
    "Sheet4Ulti = Sheet4Ulti[['nama', 'jabatan_pekerjaan']]\n",
    "Sheet4Ulti = Sheet4Ulti.dropna()\n",
    "Sheet4Ulti.columns = ['nama', 'jabatan']\n",
    "\n",
    "Sheet4Eksi = pd.read_csv(r\"C:\\Users\\Aufar\\Desktop\\edm\\eksisting\\m_pelamar_keluarga-eks.csv\", error_bad_lines=False, encoding='latin-1')\n",
    "Sheet4Eksi = Sheet4Eksi[['nama', 'jabatan_pekerjaan']]\n",
    "Sheet4Eksi = Sheet4Eksi.dropna()\n",
    "Sheet4Eksi.columns = ['nama', 'jabatan']\n",
    "\n",
    "print(\"SHEET 4 - DATA JABATAN USERS\")\n",
    "print(\"Total Data Sheet 4 Ultimate : \" + str(len(Sheet4Ulti)))\n",
    "print(\"Total Data Sheet 4 Eksisting : \" + str(len(Sheet4Eksi)))\n",
    "print(\"Selisih Data : \" + str(len(Sheet4Eksi) - len(Sheet4Ulti)))\n",
    "\n",
    "# Sheet4Ulti.head(3168)\n",
    "# Sheet4Eksi.head(3170)"
   ]
  },
  {
   "cell_type": "code",
   "execution_count": 132,
   "metadata": {},
   "outputs": [
    {
     "name": "stdout",
     "output_type": "stream",
     "text": [
      "Beda Nama Lengkap : ['hisbullah', 'indah wulandari', 'riwaldi siburian', 'ari sukristianna', 'alm. Nurhayati', 'jumriarthy', 'katur mugiono', 'sunarti', 'bagus wisnu ghiffani', 'kardono', 'Ebta Praga Hidayat', 'Yusnita Isnaini Hidayat', 'sugeng', 'tatik purwatiningrum', 'isnaini digna darajatin', 'delila melati', 'aida anggraini', 'drg. Runggu Christine Saragih', 'yuswono', 'winarni', 'lili sholihah', 'khaeroni', 'sri budi ismiatin', 'dr. M.A.H. Rosyidah Nawawi', 'husein', 'marwiyah', 'menisya husein', 'drg. Putri Kusuma Wardani Mahendra', 'agus setya wibowo', 'rena permana putra', 'wenny may rahardyanti', 'bambang setiaji', 'ibrahim fatwa wijaya', 'ali muhammad sidiq']\n",
      "\n",
      "Beda Telepon : []\n",
      "\n",
      "Kesimpulan : Terdapat Perbedaan Data Eksisting dan Ultimate pada Sheet 4\n"
     ]
    }
   ],
   "source": [
    "fullnameEksi = [] #ambil data fullname Eksisting Sheet 4\n",
    "fullnameUlti = [] #ambil data fullname Ultimate Sheet 4\n",
    "jabatanEksi = [] #ambil data jabatan Eksisting Sheet 4\n",
    "jabatanUlti = [] #ambil data jabatan Ultimate Sheet 4\n",
    "\n",
    "for i in Sheet4Eksi['nama'] :\n",
    "     fullnameEksi.append(i)\n",
    "\n",
    "for i in Sheet4Ulti['nama'] :\n",
    "     fullnameUlti.append(i)\n",
    "        \n",
    "for i in Sheet4Eksi['jabatan'] :\n",
    "     jabatanEksi.append(i)\n",
    "\n",
    "for i in Sheet4Ulti['jabatan'] :\n",
    "     jabatanUlti.append(i)\n",
    "\n",
    "bedaFullnameSheet4 = [] #menampung data jika ditemukan ada yg berbeda\n",
    "bedaJabatanSheet4 = [] #menampung data jika ditemukan ada yg berbeda\n",
    "\n",
    "for i in fullnameEksi :\n",
    "    if((i in fullnameUlti) == False):\n",
    "        bedaFullnameSheet4.append(i)\n",
    "    \n",
    "for i in jabatanEksi :\n",
    "    if((i in jabatanUlti) == False):\n",
    "        bedaJabatanSheet4.append(i)\n",
    "        \n",
    "print(\"Beda Nama Lengkap : \"+ str(bedaFullnameSheet4))   \n",
    "print(\"\")\n",
    "print(\"Beda Telepon : \" + str(bedaJabatanSheet4))\n",
    "print(\"\")\n",
    "\n",
    "\n",
    "if(((bedaFullnameSheet4) == []) and ((bedaJabatanSheet4) == [])) :\n",
    "    print(\"Kesimpulan : Data Eksisting dan Ultimate sama Persis pada Sheet 4\")\n",
    "else :\n",
    "    print(\"Kesimpulan : Terdapat Perbedaan Data Eksisting dan Ultimate pada Sheet 4\")"
   ]
  },
  {
   "cell_type": "code",
   "execution_count": 133,
   "metadata": {},
   "outputs": [
    {
     "name": "stdout",
     "output_type": "stream",
     "text": [
      "['Ebta Praga Hidayat', 'Yusnita Isnaini Hidayat', 'agus setya wibowo', 'aida anggraini', 'ali muhammad sidiq', 'alm. Nurhayati', 'ari sukristianna', 'bagus wisnu ghiffani', 'bambang setiaji', 'delila melati', 'dr. M.A.H. Rosyidah Nawawi', 'drg. Putri Kusuma Wardani Mahendra', 'drg. Runggu Christine Saragih', 'hisbullah', 'husein', 'ibrahim fatwa wijaya', 'indah wulandari', 'isnaini digna darajatin', 'jumriarthy', 'kardono', 'katur mugiono', 'khaeroni', 'lili sholihah', 'marwiyah', 'menisya husein', 'rena permana putra', 'riwaldi siburian', 'sri budi ismiatin', 'sugeng', 'sunarti', 'tatik purwatiningrum', 'wenny may rahardyanti', 'winarni', 'yuswono']\n",
      "==========\n",
      "['Agus setya wibowo', 'Aida anggraini', 'Ali muhammad sidiq', 'Alm. Nurhayati', 'Ari sukristianna', 'Bagus wisnu ghiffani', 'Bambang setiaji', 'Delila melati', 'Dr. M.A.H. Rosyidah Nawawi', 'Drg. Putri Kusuma Wardani Mahendra', 'Drg. Runggu Christine Saragih', 'Hisbullah', 'Husein', 'Ibrahim fatwa wijaya', 'Indah wulandari', 'Isnaini digna darajatin', 'Jumriarthy', 'Kardono', 'Katur mugiono', 'Khaeroni', 'Lili sholihah', 'Marwiyah', 'Menisya husein', 'Rena permana putra', 'Riwaldi siburian', 'Sri budi ismiatin', 'Sugeng', 'Tatik purwatiningrum', 'Wenny may rahardyanti', 'Winarni', 'Yuswono']\n"
     ]
    }
   ],
   "source": [
    "fullname1 = []\n",
    "fullname2 = []\n",
    "\n",
    "for i in fullnameEksi :\n",
    "    if((i in fullnameUlti) == False):\n",
    "        bedaFullnameSheet4.append(i)\n",
    "        fullname1.append(i)\n",
    "        \n",
    "for i in fullnameUlti :\n",
    "    if((i in fullnameEksi) == False):\n",
    "        bedaFullnameSheet4.append(i)\n",
    "        fullname2.append(i)\n",
    "        \n",
    "fullname1.sort()\n",
    "fullname2.sort()\n",
    "print(fullname1)\n",
    "print(\"==========\")\n",
    "print(fullname2)\n",
    "\n",
    "Sheet4 = pd.DataFrame({\"Fullname di Eksisting\" : fullname1})"
   ]
  },
  {
   "cell_type": "code",
   "execution_count": 134,
   "metadata": {},
   "outputs": [
    {
     "name": "stdout",
     "output_type": "stream",
     "text": [
      "SHEET 5 - DATA KETERAMPILAN USERS\n",
      "Total Data Sheet 5 Ultimate : 658\n",
      "Total Data Sheet 5 Eksisting : 658\n",
      "Selisih Data : 0\n"
     ]
    }
   ],
   "source": [
    "Sheet5Ulti = pd.read_csv(r\"C:\\Users\\Aufar\\Desktop\\edm\\ultimate\\m_pelamar_keterampilan-ultimate.csv\", \n",
    "                     error_bad_lines=False, encoding='latin-1')\n",
    "Sheet5Ulti = Sheet5Ulti[['fullname', 'keterangan']]\n",
    "Sheet5Ulti = Sheet5Ulti.dropna()\n",
    "Sheet5Ulti.columns = ['fullname', 'keterangan']\n",
    "\n",
    "Sheet5Eksi = pd.read_csv(r\"C:\\Users\\Aufar\\Desktop\\edm\\eksisting\\m_pelamar_keterampilan-eks.csv\", \n",
    "                     error_bad_lines=False, encoding='latin-1')\n",
    "Sheet5Eksi = Sheet5Eksi[['nama_lengkap', 'keterangan']]\n",
    "Sheet5Eksi = Sheet5Eksi.dropna()\n",
    "Sheet5Eksi.columns = ['fullname', 'keterangan']\n",
    "\n",
    "print(\"SHEET 5 - DATA KETERAMPILAN USERS\")\n",
    "print(\"Total Data Sheet 5 Ultimate : \" + str(len(Sheet5Ulti)))\n",
    "print(\"Total Data Sheet 5 Eksisting : \" + str(len(Sheet5Eksi)))\n",
    "print(\"Selisih Data : \" + str(len(Sheet5Eksi) - len(Sheet5Ulti)))\n",
    "\n",
    "# Sheet5Ulti.head(658)\n",
    "# Sheet5Eksi.head(658)"
   ]
  },
  {
   "cell_type": "code",
   "execution_count": 135,
   "metadata": {},
   "outputs": [
    {
     "name": "stdout",
     "output_type": "stream",
     "text": [
      "Beda Nama Lengkap : []\n",
      "\n",
      "Beda Keterangan : []\n",
      "\n",
      "Kesimpulan : Data Eksisting dan Ultimate sama Persis pada Sheet 5\n"
     ]
    }
   ],
   "source": [
    "fullnameEksi = [] #ambil data fullname Eksisting Sheet 5\n",
    "fullnameUlti = [] #ambil data fullname Ultimate Sheet 5\n",
    "keteranganEksi = [] #ambil data keterangan Eksisting Sheet 5\n",
    "keteranganUlti = [] #ambil data keterangan Ultimate Sheet 5\n",
    "\n",
    "for i in Sheet5Eksi['fullname'] :\n",
    "     fullnameEksi.append(i)\n",
    "\n",
    "for i in Sheet5Ulti['fullname'] :\n",
    "     fullnameUlti.append(i)\n",
    "        \n",
    "for i in Sheet5Eksi['keterangan'] :\n",
    "     keteranganEksi.append(i)\n",
    "\n",
    "for i in Sheet5Ulti['keterangan'] :\n",
    "     keteranganUlti.append(i)\n",
    "\n",
    "bedaFullnameSheet5 = [] #menampung data jika ditemukan ada yg berbeda\n",
    "bedaKeteranganSheet5 = [] #menampung data jika ditemukan ada yg berbeda\n",
    "\n",
    "for i in fullnameEksi :\n",
    "    if((i in fullnameUlti) == False):\n",
    "        bedaFullnameSheet5.append(i)\n",
    "    \n",
    "for i in keteranganEksi :\n",
    "    if((i in keteranganUlti) == False):\n",
    "        bedaKeteranganSheet5.append(i)\n",
    "        \n",
    "print(\"Beda Nama Lengkap : \"+ str(bedaFullnameSheet5))   \n",
    "print(\"\")\n",
    "print(\"Beda Keterangan : \" + str(bedaKeteranganSheet5))\n",
    "print(\"\")\n",
    "\n",
    "\n",
    "if(((bedaFullnameSheet5) == []) and ((bedaKeteranganSheet5) == [])) :\n",
    "    print(\"Kesimpulan : Data Eksisting dan Ultimate sama Persis pada Sheet 5\")\n",
    "else :\n",
    "    print(\"Kesimpulan : Terdapat Perbedaan Data Eksisting dan Ultimate pada Sheet 5\")"
   ]
  },
  {
   "cell_type": "code",
   "execution_count": 136,
   "metadata": {},
   "outputs": [
    {
     "name": "stdout",
     "output_type": "stream",
     "text": [
      "SHEET 6 - DATA ORGANISASI USERS\n",
      "Total Data Sheet 6 Ultimate : 1941\n",
      "Total Data Sheet 6 Eksisting : 1941\n",
      "Selisih Data : 0\n"
     ]
    }
   ],
   "source": [
    "Sheet6Ulti = pd.read_csv(r\"C:\\Users\\Aufar\\Desktop\\edm\\ultimate\\m_pelamar_organisasi-ultimate.csv\", \n",
    "                     error_bad_lines=False, encoding='latin-1')\n",
    "Sheet6Ulti = Sheet6Ulti[['ktp', 'nama_organisasi']]\n",
    "Sheet6Ulti.columns = ['ktp', 'organisasi']\n",
    "\n",
    "Sheet6Eksi = pd.read_csv(r\"C:\\Users\\Aufar\\Desktop\\edm\\eksisting\\m_pelamar_organisasi-eks.csv\", \n",
    "                     error_bad_lines=False, encoding='latin-1')\n",
    "Sheet6Eksi = Sheet6Eksi[['no_ktp', 'nama_organisasi']]\n",
    "Sheet6Eksi.columns = ['ktp', 'organisasi']\n",
    "\n",
    "print(\"SHEET 6 - DATA ORGANISASI USERS\")\n",
    "print(\"Total Data Sheet 6 Ultimate : \" + str(len(Sheet6Ulti)))\n",
    "print(\"Total Data Sheet 6 Eksisting : \" + str(len(Sheet6Eksi)))\n",
    "print(\"Selisih Data : \" + str(len(Sheet6Eksi) - len(Sheet6Ulti)))\n",
    "\n",
    "# Sheet6Ulti.head(1941)\n",
    "# Sheet6Eksi.head(1941)"
   ]
  },
  {
   "cell_type": "code",
   "execution_count": 137,
   "metadata": {},
   "outputs": [
    {
     "name": "stdout",
     "output_type": "stream",
     "text": [
      "Beda KTP : []\n",
      "Beda Organisasi : []\n",
      "\n",
      "Kesimpulan : Data Eksisting dan Ultimate sama persis pada Sheet 6\n"
     ]
    }
   ],
   "source": [
    "ktpEksi = [] #ambil data fullname Eksisting Sheet 6\n",
    "ktpUlti = [] #ambil data fullname Ultimate Sheet 6\n",
    "organisasiEksi = [] #ambil data organisasi Eksisting Sheet 6\n",
    "organisasiUlti = [] #ambil data organisasi Ultimate Sheet 6\n",
    "\n",
    "for i in Sheet6Eksi['ktp'] :\n",
    "     ktpEksi.append(i)\n",
    "\n",
    "for i in Sheet6Ulti['ktp'] :\n",
    "     ktpUlti.append(i)\n",
    "        \n",
    "for i in Sheet6Eksi['organisasi'] :\n",
    "     organisasiEksi.append(i)\n",
    "\n",
    "for i in Sheet6Ulti['organisasi'] :\n",
    "     organisasiUlti.append(i)\n",
    "\n",
    "bedaKtpSheet6 = [] #menampung data jika ditemukan ada yg berbeda\n",
    "bedaOrganisasiSheet6 = [] #menampung data jika ditemukan ada yg berbeda\n",
    "\n",
    "for i in ktpEksi :\n",
    "    if((i in ktpUlti) == False):\n",
    "        bedaKtpSheet6.append(i)\n",
    "    \n",
    "for i in organisasiEksi :\n",
    "    if((i in organisasiUlti) == False):\n",
    "        bedaOrganisasiSheet6.append(i)\n",
    "        \n",
    "print(\"Beda KTP : \"+ str(bedaKtpSheet6))   \n",
    "print(\"Beda Organisasi : \" + str(bedaOrganisasiSheet6))\n",
    "print(\"\")\n",
    "\n",
    "if(((bedaKtpSheet6) == []) and ((bedaOrganisasiSheet6) == [])) :\n",
    "    print(\"Kesimpulan : Data Eksisting dan Ultimate sama persis pada Sheet 6\")\n",
    "else :\n",
    "    print(\"Kesimpulan : Terdapat Perbedaan Data Eksisting dan Ultimate pada Sheet 6\")"
   ]
  },
  {
   "cell_type": "code",
   "execution_count": 138,
   "metadata": {},
   "outputs": [
    {
     "name": "stdout",
     "output_type": "stream",
     "text": [
      "SHEET 7 - DATA PEKERJAAN USERS\n",
      "Total Data Sheet 7 Ultimate : 1056\n",
      "Total Data Sheet 7 Eksisting : 1059\n",
      "Selisih Data : 3\n"
     ]
    }
   ],
   "source": [
    "Sheet7Ulti = pd.read_csv(r\"C:\\Users\\Aufar\\Desktop\\edm\\ultimate\\m_pelamar_pekerjaan-ultimate.csv\", \n",
    "                     error_bad_lines=False, encoding='latin-1')\n",
    "Sheet7Ulti = Sheet7Ulti[['fullname', 'nama_perusahaan']]\n",
    "Sheet7Ulti.columns = ['fullname', 'perusahaan']\n",
    "Sheet7Ulti = Sheet7Ulti.dropna()\n",
    "\n",
    "Sheet7Eksi = pd.read_csv(r\"C:\\Users\\Aufar\\Desktop\\edm\\eksisting\\m_pelamar_pekerjaan-eks.csv\", \n",
    "                     error_bad_lines=False, encoding='latin-1')\n",
    "Sheet7Eksi = Sheet7Eksi[['nama_lengkap', 'nama_perusahaan']]\n",
    "Sheet7Eksi.columns = ['fullname', 'perusahaan']\n",
    "Sheet7Eksi = Sheet7Eksi.dropna()\n",
    "\n",
    "print(\"SHEET 7 - DATA PEKERJAAN USERS\")\n",
    "print(\"Total Data Sheet 7 Ultimate : \" + str(len(Sheet7Ulti)))\n",
    "print(\"Total Data Sheet 7 Eksisting : \" + str(len(Sheet7Eksi)))\n",
    "print(\"Selisih Data : \" + str(len(Sheet7Eksi) - len(Sheet7Ulti)))\n",
    "\n",
    "# Sheet6Ulti.head(1941)\n",
    "# Sheet6Eksi.head(1941)"
   ]
  },
  {
   "cell_type": "code",
   "execution_count": 139,
   "metadata": {},
   "outputs": [
    {
     "name": "stdout",
     "output_type": "stream",
     "text": [
      "Beda Nama : ['Dede Nurhidayat', 'Dede Nurhidayat', 'Dede Nurhidayat']\n",
      "Beda Perusahaann : ['PT. WISWAKHARMAN', 'PT. MARLANCO', 'PT. WIKA GEDUNG']\n",
      "\n",
      "Kesimpulan : Terdapat Perbedaan Data Eksisting dan Ultimate pada Sheet 7\n"
     ]
    }
   ],
   "source": [
    "ktpEksi = [] #ambil data fullname Eksisting Sheet 7\n",
    "ktpUlti = [] #ambil data fullname Ultimate Sheet 7\n",
    "perusahaanEksi = [] #ambil data perusahaan Eksisting Sheet 7\n",
    "perusahaanUlti = [] #ambil data perusahaan Ultimate Sheet 7\n",
    "\n",
    "for i in Sheet7Eksi['fullname'] :\n",
    "     ktpEksi.append(i)\n",
    "\n",
    "for i in Sheet7Ulti['fullname'] :\n",
    "     ktpUlti.append(i)\n",
    "        \n",
    "for i in Sheet7Eksi['perusahaan'] :\n",
    "     perusahaanEksi.append(i)\n",
    "\n",
    "for i in Sheet7Ulti['perusahaan'] :\n",
    "     perusahaanUlti.append(i)\n",
    "\n",
    "bedaKtpSheet7 = [] #menampung data jika ditemukan ada yg berbeda\n",
    "bedaPerusahaanSheet7 = [] #menampung data jika ditemukan ada yg berbeda\n",
    "\n",
    "for i in ktpEksi :\n",
    "    if((i in ktpUlti) == False):\n",
    "        bedaKtpSheet7.append(i)\n",
    "    \n",
    "for i in perusahaanEksi :\n",
    "    if((i in perusahaanUlti) == False):\n",
    "        bedaPerusahaanSheet7.append(i)\n",
    "        \n",
    "print(\"Beda Nama : \"+ str(bedaKtpSheet7))   \n",
    "print(\"Beda Perusahaann : \" + str(bedaPerusahaanSheet7))\n",
    "print(\"\")\n",
    "\n",
    "if(((bedaKtpSheet7) == []) and ((bedaPerusahaanSheet7) == [])) :\n",
    "    print(\"Kesimpulan : Data Eksisting dan Ultimate sama persis pada Sheet 7\")\n",
    "else :\n",
    "    print(\"Kesimpulan : Terdapat Perbedaan Data Eksisting dan Ultimate pada Sheet 7\")"
   ]
  },
  {
   "cell_type": "code",
   "execution_count": 140,
   "metadata": {},
   "outputs": [
    {
     "name": "stdout",
     "output_type": "stream",
     "text": [
      "ULTIMATE : \n",
      "Empty DataFrame\n",
      "Columns: [fullname, perusahaan]\n",
      "Index: []\n",
      "-----------\n",
      "EKSISTING : \n",
      "            fullname        perusahaan\n",
      "267  Dede Nurhidayat  PT. WISWAKHARMAN\n",
      "268  Dede Nurhidayat      PT. MARLANCO\n",
      "269  Dede Nurhidayat   PT. WIKA GEDUNG\n"
     ]
    }
   ],
   "source": [
    "Sheet7 = pd.DataFrame({\"Perusahaan di Eksisting\" : bedaPerusahaanSheet7})\n",
    "\n",
    "print(\"ULTIMATE : \")\n",
    "print(Sheet7Ulti.loc[Sheet7Ulti['perusahaan'].isin(bedaPerusahaanSheet7)])\n",
    "print(\"-----------\")\n",
    "print(\"EKSISTING : \")\n",
    "print(Sheet7Eksi.loc[Sheet7Eksi['perusahaan'].isin(bedaPerusahaanSheet7)])"
   ]
  },
  {
   "cell_type": "code",
   "execution_count": 141,
   "metadata": {},
   "outputs": [
    {
     "data": {
      "text/html": [
       "<div>\n",
       "<style scoped>\n",
       "    .dataframe tbody tr th:only-of-type {\n",
       "        vertical-align: middle;\n",
       "    }\n",
       "\n",
       "    .dataframe tbody tr th {\n",
       "        vertical-align: top;\n",
       "    }\n",
       "\n",
       "    .dataframe thead th {\n",
       "        text-align: right;\n",
       "    }\n",
       "</style>\n",
       "<table border=\"1\" class=\"dataframe\">\n",
       "  <thead>\n",
       "    <tr style=\"text-align: right;\">\n",
       "      <th></th>\n",
       "      <th>Sheets</th>\n",
       "      <th>Total Data Sama</th>\n",
       "      <th>Persentase</th>\n",
       "    </tr>\n",
       "  </thead>\n",
       "  <tbody>\n",
       "    <tr>\n",
       "      <th>0</th>\n",
       "      <td>Sheet 1</td>\n",
       "      <td>678/678</td>\n",
       "      <td>1.000000</td>\n",
       "    </tr>\n",
       "    <tr>\n",
       "      <th>1</th>\n",
       "      <td>Sheet 2</td>\n",
       "      <td>666/678</td>\n",
       "      <td>0.982301</td>\n",
       "    </tr>\n",
       "    <tr>\n",
       "      <th>2</th>\n",
       "      <td>Sheet 3</td>\n",
       "      <td>838/842</td>\n",
       "      <td>0.995249</td>\n",
       "    </tr>\n",
       "    <tr>\n",
       "      <th>3</th>\n",
       "      <td>Sheet 4</td>\n",
       "      <td>3116/3170</td>\n",
       "      <td>0.982965</td>\n",
       "    </tr>\n",
       "    <tr>\n",
       "      <th>4</th>\n",
       "      <td>Sheet 5</td>\n",
       "      <td>658/658</td>\n",
       "      <td>1.000000</td>\n",
       "    </tr>\n",
       "    <tr>\n",
       "      <th>5</th>\n",
       "      <td>Sheet 6</td>\n",
       "      <td>1941/1941</td>\n",
       "      <td>1.000000</td>\n",
       "    </tr>\n",
       "    <tr>\n",
       "      <th>6</th>\n",
       "      <td>Sheet 7</td>\n",
       "      <td>1213/1216</td>\n",
       "      <td>0.997533</td>\n",
       "    </tr>\n",
       "  </tbody>\n",
       "</table>\n",
       "</div>"
      ],
      "text/plain": [
       "    Sheets Total Data Sama  Persentase\n",
       "0  Sheet 1         678/678    1.000000\n",
       "1  Sheet 2         666/678    0.982301\n",
       "2  Sheet 3         838/842    0.995249\n",
       "3  Sheet 4       3116/3170    0.982965\n",
       "4  Sheet 5         658/658    1.000000\n",
       "5  Sheet 6       1941/1941    1.000000\n",
       "6  Sheet 7       1213/1216    0.997533"
      ]
     },
     "execution_count": 141,
     "metadata": {},
     "output_type": "execute_result"
    }
   ],
   "source": [
    "import matplotlib.pyplot as plt\n",
    "%matplotlib inline\n",
    "\n",
    "Hasil = ['678/678', '666/678', '838/842', '3116/3170', '658/658', '1941/1941', '1213/1216']\n",
    "Persentase = [(678/678), (666/678), (838/842), (3116/3170), (658/658), (1941/1941), (1213/1216)]\n",
    "Labels = ['Sheet 1', 'Sheet 2', 'Sheet 3', 'Sheet 4', 'Sheet 5', 'Sheet 6', 'Sheet 7']\n",
    "\n",
    "DataframeSheets = pd.DataFrame({\"Sheets\" : Labels, \"Total Data Sama\" : Hasil, \"Persentase\" : Persentase})\n",
    "DataframeSheets.head(7)"
   ]
  },
  {
   "cell_type": "code",
   "execution_count": 142,
   "metadata": {},
   "outputs": [
    {
     "name": "stdout",
     "output_type": "stream",
     "text": [
      "Persentase Kesamaan Data Eksisting x Ultimate : \n"
     ]
    },
    {
     "data": {
      "image/png": "[encoded data removed]",
      "text/plain": [
       "<Figure size 432x288 with 1 Axes>"
      ]
     },
     "metadata": {},
     "output_type": "display_data"
    },
    {
     "name": "stdout",
     "output_type": "stream",
     "text": [
      "Exporting to Excel.. Please wait.\n",
      "Export Successful!\n"
     ]
    }
   ],
   "source": [
    "print(\"Persentase Kesamaan Data Eksisting x Ultimate : \")\n",
    "plt.pie(Persentase, labels=Labels)\n",
    "plt.show()\n",
    "\n",
    "sheet = ['Tidak Ada Perbedaan']\n",
    "Sheet1 = pd.DataFrame({\"Perbedaan Eksisting x Ultimate\" : sheet})\n",
    "Sheet5 = pd.DataFrame({\"Perbedaan Eksisting x Ultimate\" : sheet})\n",
    "Sheet6 = pd.DataFrame({\"Perbedaan Eksisting x Ultimate\" : sheet})\n",
    "\n",
    "print('Exporting to Excel.. Please wait.')\n",
    "with pd.ExcelWriter(r'C:\\Users\\Aufar\\Desktop\\edm\\Eksisting x Ultimate.xlsx') as Aufar:  \n",
    "    DataframeSheets.to_excel(Aufar, sheet_name='Hasil Comparing')\n",
    "    Sheet1.to_excel(Aufar, sheet_name='Sheet 1 - Data Users')\n",
    "    Sheet2.to_excel(Aufar, sheet_name='Sheet 2 - Contact Users')\n",
    "    Sheet3.to_excel(Aufar, sheet_name='Sheet 3 - Pendidikan Users')\n",
    "    Sheet4.to_excel(Aufar, sheet_name='Sheet 4 - Keluarga Users')\n",
    "    Sheet5.to_excel(Aufar, sheet_name='Sheet 5 - Keterampilan Users')\n",
    "    Sheet6.to_excel(Aufar, sheet_name='Sheet 6 - Organisasi Users')\n",
    "    Sheet7.to_excel(Aufar, sheet_name='Sheet 7 - Pekerjaan Users')\n",
    "    \n",
    "\n",
    "print('Export Successful!')"
   ]
  },
  {
   "cell_type": "code",
   "execution_count": null,
   "metadata": {},
   "outputs": [],
   "source": []
  },
  {
   "cell_type": "code",
   "execution_count": null,
   "metadata": {},
   "outputs": [],
   "source": []
  },
  {
   "cell_type": "code",
   "execution_count": null,
   "metadata": {},
   "outputs": [],
   "source": []
  }
 ],
 "metadata": {
  "kernelspec": {
   "display_name": "Python 3",
   "language": "python",
   "name": "python3"
  },
  "language_info": {
   "codemirror_mode": {
    "name": "ipython",
    "version": 3
   },
   "file_extension": ".py",
   "mimetype": "text/x-python",
   "name": "python",
   "nbconvert_exporter": "python",
   "pygments_lexer": "ipython3",
   "version": "3.7.4"
  }
 },
 "nbformat": 4,
 "nbformat_minor": 2
}
