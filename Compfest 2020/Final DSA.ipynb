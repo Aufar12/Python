{
 "cells": [
  {
   "cell_type": "code",
   "execution_count": 4,
   "metadata": {},
   "outputs": [
    {
     "data": {
      "text/html": [
       "<div>\n",
       "<style scoped>\n",
       "    .dataframe tbody tr th:only-of-type {\n",
       "        vertical-align: middle;\n",
       "    }\n",
       "\n",
       "    .dataframe tbody tr th {\n",
       "        vertical-align: top;\n",
       "    }\n",
       "\n",
       "    .dataframe thead th {\n",
       "        text-align: right;\n",
       "    }\n",
       "</style>\n",
       "<table border=\"1\" class=\"dataframe\">\n",
       "  <thead>\n",
       "    <tr style=\"text-align: right;\">\n",
       "      <th></th>\n",
       "      <th>Name</th>\n",
       "      <th>Location</th>\n",
       "      <th>Year</th>\n",
       "      <th>Kilometers_Driven</th>\n",
       "      <th>Fuel_Type</th>\n",
       "      <th>Transmission</th>\n",
       "      <th>Owner_Type</th>\n",
       "      <th>Mileage</th>\n",
       "      <th>Engine</th>\n",
       "      <th>Power</th>\n",
       "      <th>Seats</th>\n",
       "      <th>Price</th>\n",
       "    </tr>\n",
       "  </thead>\n",
       "  <tbody>\n",
       "    <tr>\n",
       "      <td>0</td>\n",
       "      <td>Maruti Wagon R LXI CNG</td>\n",
       "      <td>Mumbai</td>\n",
       "      <td>2010</td>\n",
       "      <td>72000</td>\n",
       "      <td>CNG</td>\n",
       "      <td>Manual</td>\n",
       "      <td>First</td>\n",
       "      <td>26.6 km/kg</td>\n",
       "      <td>998 CC</td>\n",
       "      <td>58.16 bhp</td>\n",
       "      <td>5.0</td>\n",
       "      <td>1.75</td>\n",
       "    </tr>\n",
       "    <tr>\n",
       "      <td>1</td>\n",
       "      <td>Hyundai Creta 1.6 CRDi SX Option</td>\n",
       "      <td>Pune</td>\n",
       "      <td>2015</td>\n",
       "      <td>41000</td>\n",
       "      <td>Diesel</td>\n",
       "      <td>Manual</td>\n",
       "      <td>First</td>\n",
       "      <td>19.67 kmpl</td>\n",
       "      <td>1582 CC</td>\n",
       "      <td>126.2 bhp</td>\n",
       "      <td>5.0</td>\n",
       "      <td>12.50</td>\n",
       "    </tr>\n",
       "    <tr>\n",
       "      <td>2</td>\n",
       "      <td>Honda Jazz V</td>\n",
       "      <td>Chennai</td>\n",
       "      <td>2011</td>\n",
       "      <td>46000</td>\n",
       "      <td>Petrol</td>\n",
       "      <td>Manual</td>\n",
       "      <td>First</td>\n",
       "      <td>18.2 kmpl</td>\n",
       "      <td>1199 CC</td>\n",
       "      <td>88.7 bhp</td>\n",
       "      <td>5.0</td>\n",
       "      <td>4.50</td>\n",
       "    </tr>\n",
       "    <tr>\n",
       "      <td>3</td>\n",
       "      <td>Maruti Ertiga VDI</td>\n",
       "      <td>Chennai</td>\n",
       "      <td>2012</td>\n",
       "      <td>87000</td>\n",
       "      <td>Diesel</td>\n",
       "      <td>Manual</td>\n",
       "      <td>First</td>\n",
       "      <td>20.77 kmpl</td>\n",
       "      <td>1248 CC</td>\n",
       "      <td>88.76 bhp</td>\n",
       "      <td>7.0</td>\n",
       "      <td>6.00</td>\n",
       "    </tr>\n",
       "    <tr>\n",
       "      <td>4</td>\n",
       "      <td>Audi A4 New 2.0 TDI Multitronic</td>\n",
       "      <td>Coimbatore</td>\n",
       "      <td>2013</td>\n",
       "      <td>40670</td>\n",
       "      <td>Diesel</td>\n",
       "      <td>Automatic</td>\n",
       "      <td>Second</td>\n",
       "      <td>15.2 kmpl</td>\n",
       "      <td>1968 CC</td>\n",
       "      <td>140.8 bhp</td>\n",
       "      <td>5.0</td>\n",
       "      <td>17.74</td>\n",
       "    </tr>\n",
       "    <tr>\n",
       "      <td>...</td>\n",
       "      <td>...</td>\n",
       "      <td>...</td>\n",
       "      <td>...</td>\n",
       "      <td>...</td>\n",
       "      <td>...</td>\n",
       "      <td>...</td>\n",
       "      <td>...</td>\n",
       "      <td>...</td>\n",
       "      <td>...</td>\n",
       "      <td>...</td>\n",
       "      <td>...</td>\n",
       "      <td>...</td>\n",
       "    </tr>\n",
       "    <tr>\n",
       "      <td>6014</td>\n",
       "      <td>Maruti Swift VDI</td>\n",
       "      <td>Delhi</td>\n",
       "      <td>2014</td>\n",
       "      <td>27365</td>\n",
       "      <td>Diesel</td>\n",
       "      <td>Manual</td>\n",
       "      <td>First</td>\n",
       "      <td>28.4 kmpl</td>\n",
       "      <td>1248 CC</td>\n",
       "      <td>74 bhp</td>\n",
       "      <td>5.0</td>\n",
       "      <td>4.75</td>\n",
       "    </tr>\n",
       "    <tr>\n",
       "      <td>6015</td>\n",
       "      <td>Hyundai Xcent 1.1 CRDi S</td>\n",
       "      <td>Jaipur</td>\n",
       "      <td>2015</td>\n",
       "      <td>100000</td>\n",
       "      <td>Diesel</td>\n",
       "      <td>Manual</td>\n",
       "      <td>First</td>\n",
       "      <td>24.4 kmpl</td>\n",
       "      <td>1120 CC</td>\n",
       "      <td>71 bhp</td>\n",
       "      <td>5.0</td>\n",
       "      <td>4.00</td>\n",
       "    </tr>\n",
       "    <tr>\n",
       "      <td>6016</td>\n",
       "      <td>Mahindra Xylo D4 BSIV</td>\n",
       "      <td>Jaipur</td>\n",
       "      <td>2012</td>\n",
       "      <td>55000</td>\n",
       "      <td>Diesel</td>\n",
       "      <td>Manual</td>\n",
       "      <td>Second</td>\n",
       "      <td>14.0 kmpl</td>\n",
       "      <td>2498 CC</td>\n",
       "      <td>112 bhp</td>\n",
       "      <td>8.0</td>\n",
       "      <td>2.90</td>\n",
       "    </tr>\n",
       "    <tr>\n",
       "      <td>6017</td>\n",
       "      <td>Maruti Wagon R VXI</td>\n",
       "      <td>Kolkata</td>\n",
       "      <td>2013</td>\n",
       "      <td>46000</td>\n",
       "      <td>Petrol</td>\n",
       "      <td>Manual</td>\n",
       "      <td>First</td>\n",
       "      <td>18.9 kmpl</td>\n",
       "      <td>998 CC</td>\n",
       "      <td>67.1 bhp</td>\n",
       "      <td>5.0</td>\n",
       "      <td>2.65</td>\n",
       "    </tr>\n",
       "    <tr>\n",
       "      <td>6018</td>\n",
       "      <td>Chevrolet Beat Diesel</td>\n",
       "      <td>Hyderabad</td>\n",
       "      <td>2011</td>\n",
       "      <td>47000</td>\n",
       "      <td>Diesel</td>\n",
       "      <td>Manual</td>\n",
       "      <td>First</td>\n",
       "      <td>25.44 kmpl</td>\n",
       "      <td>936 CC</td>\n",
       "      <td>57.6 bhp</td>\n",
       "      <td>5.0</td>\n",
       "      <td>2.50</td>\n",
       "    </tr>\n",
       "  </tbody>\n",
       "</table>\n",
       "<p>6019 rows × 12 columns</p>\n",
       "</div>"
      ],
      "text/plain": [
       "                                  Name    Location  Year  Kilometers_Driven  \\\n",
       "0               Maruti Wagon R LXI CNG      Mumbai  2010              72000   \n",
       "1     Hyundai Creta 1.6 CRDi SX Option        Pune  2015              41000   \n",
       "2                         Honda Jazz V     Chennai  2011              46000   \n",
       "3                    Maruti Ertiga VDI     Chennai  2012              87000   \n",
       "4      Audi A4 New 2.0 TDI Multitronic  Coimbatore  2013              40670   \n",
       "...                                ...         ...   ...                ...   \n",
       "6014                  Maruti Swift VDI       Delhi  2014              27365   \n",
       "6015          Hyundai Xcent 1.1 CRDi S      Jaipur  2015             100000   \n",
       "6016             Mahindra Xylo D4 BSIV      Jaipur  2012              55000   \n",
       "6017                Maruti Wagon R VXI     Kolkata  2013              46000   \n",
       "6018             Chevrolet Beat Diesel   Hyderabad  2011              47000   \n",
       "\n",
       "     Fuel_Type Transmission Owner_Type     Mileage   Engine      Power  Seats  \\\n",
       "0          CNG       Manual      First  26.6 km/kg   998 CC  58.16 bhp    5.0   \n",
       "1       Diesel       Manual      First  19.67 kmpl  1582 CC  126.2 bhp    5.0   \n",
       "2       Petrol       Manual      First   18.2 kmpl  1199 CC   88.7 bhp    5.0   \n",
       "3       Diesel       Manual      First  20.77 kmpl  1248 CC  88.76 bhp    7.0   \n",
       "4       Diesel    Automatic     Second   15.2 kmpl  1968 CC  140.8 bhp    5.0   \n",
       "...        ...          ...        ...         ...      ...        ...    ...   \n",
       "6014    Diesel       Manual      First   28.4 kmpl  1248 CC     74 bhp    5.0   \n",
       "6015    Diesel       Manual      First   24.4 kmpl  1120 CC     71 bhp    5.0   \n",
       "6016    Diesel       Manual     Second   14.0 kmpl  2498 CC    112 bhp    8.0   \n",
       "6017    Petrol       Manual      First   18.9 kmpl   998 CC   67.1 bhp    5.0   \n",
       "6018    Diesel       Manual      First  25.44 kmpl   936 CC   57.6 bhp    5.0   \n",
       "\n",
       "      Price  \n",
       "0      1.75  \n",
       "1     12.50  \n",
       "2      4.50  \n",
       "3      6.00  \n",
       "4     17.74  \n",
       "...     ...  \n",
       "6014   4.75  \n",
       "6015   4.00  \n",
       "6016   2.90  \n",
       "6017   2.65  \n",
       "6018   2.50  \n",
       "\n",
       "[6019 rows x 12 columns]"
      ]
     },
     "execution_count": 4,
     "metadata": {},
     "output_type": "execute_result"
    }
   ],
   "source": [
    "import pandas as pd\n",
    "import matplotlib.pyplot as plt\n",
    "import seaborn as sns\n",
    "sns.set()\n",
    "\n",
    "df = pd.read_csv(r\"C:\\Users\\Aufar\\Documents\\edm\\used_car_data.csv\") #Membaca Data terlebih dahulu\n",
    "df"
   ]
  },
  {
   "cell_type": "markdown",
   "metadata": {},
   "source": [
    "### Question 1\n",
    "Merek mobil apa saja yang tersedia dan ada berapa banyak mobil untuk tiap merek tersebut? "
   ]
  },
  {
   "cell_type": "code",
   "execution_count": 5,
   "metadata": {},
   "outputs": [],
   "source": [
    "df_merek = df.copy()\n",
    "df_merek['Merek'] = df_merek.Name.str.split().str.get(0)\n",
    "df_merek['Merek'] = df_merek['Merek'].str.lower()"
   ]
  },
  {
   "cell_type": "code",
   "execution_count": 6,
   "metadata": {},
   "outputs": [
    {
     "data": {
      "image/png": "[encoded data removed]",
      "text/plain": [
       "<Figure size 1440x720 with 1 Axes>"
      ]
     },
     "metadata": {
      "needs_background": "light"
     },
     "output_type": "display_data"
    }
   ],
   "source": [
    "ax = df_merek['Merek'].value_counts().plot(kind='bar', figsize=(20,10), color ='orange')\n",
    "plt.xlabel('Merek', fontsize=18)\n",
    "plt.ylabel('Frequency', fontsize=18)\n",
    "\n",
    "for p in ax.patches:\n",
    "    ax.annotate(str(p.get_height()), (p.get_x() * 1.005, p.get_height() * 1.005))"
   ]
  },
  {
   "cell_type": "markdown",
   "metadata": {},
   "source": [
    "Mobil memiliki banyak sekali nama dan merek, dimana biasanya pada nama mobile tersebut terdapat merek dari mobil itu sendiri. Kita ambil satu contoh pada sebuah mobil dengan nama Honda Odyssey 2020, kita bisa langsung tahu bahwa mobil tersebut memiliki merek Honda.\n",
    "Pada soal nomor 1, kita diminta untuk mengidentifikasi merek mobil apa saja yang ada pada dataset beserta jumlahnya. Pertama kita harus mendapatkan merek mobil dari masing-masing data dimana kita tidak memiliki merek mobil setiap datanya. Namun perlu diperhatikan bahwasannya kita masih memiliki nama mobil, sehingga kita bisa mendapatkan merek mobil dari nama mobil itu sendiri. Jika dilihat merek mobil selalu berada pada kata pertama dari setiap nama mobil, sehingga langkah pertama yang harus dilakukan adalah mengambil kata pertama pada nama mobil untuk semua data. Setelah merek mobil diperoleh, langkah selanjutnya adalah menghitung jumlah masing-masing merek. Hasil dari perhitungan tersebut bisa dilihat pada grafik di atas.\n",
    "Berdasarkan grafik diatas bisa kita  simpulkan bahwasannya terdapat 30 merek mobil dengan total mobil sebanyak 6019. Adapun mobil dengan jumlah terbanyak yaitu mobil dengan merek Maruti dengan total 1211 unit dan jumlah terendah yaitu lamborghini, ambassador, bentley, dan smart dengan masing-masing 1 unit."
   ]
  },
  {
   "cell_type": "markdown",
   "metadata": {},
   "source": [
    "### Question 2\n",
    "Kota apa yang memiliki mobil bekas paling banyak?"
   ]
  },
  {
   "cell_type": "code",
   "execution_count": 7,
   "metadata": {},
   "outputs": [
    {
     "data": {
      "image/png": "[encoded data removed]",
      "text/plain": [
       "<Figure size 864x360 with 1 Axes>"
      ]
     },
     "metadata": {
      "needs_background": "light"
     },
     "output_type": "display_data"
    }
   ],
   "source": [
    "ax = df['Location'].value_counts().plot(kind='bar',figsize=(12,5))\n",
    "plt.xlabel('Location')\n",
    "plt.ylabel('Number')\n",
    "\n",
    "for p in ax.patches:\n",
    "    ax.annotate(str(p.get_height()), (p.get_x() * 1.005, p.get_height() * 1.005))"
   ]
  },
  {
   "cell_type": "markdown",
   "metadata": {},
   "source": [
    "Berdasarkan grafik diatas maka dapat disimpulkan bahwa kota yang memiliki mobil bekas paling banyak adalah Kota Mumbai senilai 784 unit"
   ]
  },
  {
   "cell_type": "markdown",
   "metadata": {},
   "source": [
    "### Question 3\n",
    "Bagaimana distribusi tahun edisi mobil-mobil bekas tersebut?"
   ]
  },
  {
   "cell_type": "code",
   "execution_count": 8,
   "metadata": {},
   "outputs": [
    {
     "data": {
      "text/plain": [
       "array([[<matplotlib.axes._subplots.AxesSubplot object at 0x000001991AD8C5C8>]],\n",
       "      dtype=object)"
      ]
     },
     "execution_count": 8,
     "metadata": {},
     "output_type": "execute_result"
    },
    {
     "data": {
      "image/png": "[encoded data removed]",
      "text/plain": [
       "<Figure size 864x360 with 1 Axes>"
      ]
     },
     "metadata": {
      "needs_background": "light"
     },
     "output_type": "display_data"
    }
   ],
   "source": [
    "df.hist(column='Year',figsize=(12,5))"
   ]
  },
  {
   "cell_type": "markdown",
   "metadata": {},
   "source": [
    "Berdasarkan grafik diatas maka didapatkan informasi bahwa data memiliki jenis distribusi negatif (left skewed distribution) atau data yang lebih banyak ada di bagian kiri."
   ]
  },
  {
   "cell_type": "markdown",
   "metadata": {},
   "source": [
    "### Question 4\n",
    "Berapa banyak mobil yang memiliki total jarak pemakaian dibawah 100.000 kilometer ?"
   ]
  },
  {
   "cell_type": "code",
   "execution_count": 10,
   "metadata": {},
   "outputs": [
    {
     "data": {
      "image/png": "[encoded data removed]",
      "text/plain": [
       "<Figure size 432x648 with 1 Axes>"
      ]
     },
     "metadata": {},
     "output_type": "display_data"
    }
   ],
   "source": [
    "plt.rcParams['figure.figsize'] = (6, 9)\n",
    "plt.style.use('ggplot')\n",
    "\n",
    "count = 0\n",
    "for i in df['Kilometers_Driven']:\n",
    "    if i > 100000:\n",
    "        count += 1\n",
    "        \n",
    "sisa = len(df) - count\n",
    "\n",
    "a = [count, sisa]\n",
    "b = ['>= 100.000 KM', '< 100.000 KM']\n",
    "explode = (0.05, 0)\n",
    "\n",
    "plt.pie(a, labels=a,explode=explode, colors=['y', 'crimson'])\n",
    "plt.title('Total Jarak Pemakaian (KM)')\n",
    "\n",
    "plt.legend(b,loc=3)\n",
    "plt.show()"
   ]
  },
  {
   "cell_type": "markdown",
   "metadata": {},
   "source": [
    "Setelah dilakukan pengelompokan terhadap kendaran mana yang memiliki total jarak pemakaian dibawah 100.000 KM, terdapat 5512 kendaraan seperti pada grafik Pie diatas."
   ]
  },
  {
   "cell_type": "markdown",
   "metadata": {},
   "source": [
    "### Question 5\n",
    "Pada batas berapa kilometre total jarak pemakaian bias dikategorikan sebagai rendah atau tinggi ? Sertakan argumen yang mendukung jawaban"
   ]
  },
  {
   "cell_type": "code",
   "execution_count": 26,
   "metadata": {},
   "outputs": [],
   "source": [
    "df = df.drop(2328) # Menghapus Data Outlier"
   ]
  },
  {
   "cell_type": "markdown",
   "metadata": {},
   "source": [
    "Untuk menjawab pertanyaan ini, penulis menggunakan metode clustering untuk mengkategorikan batas berapa kilometer total jarak pemakaian. Penulis melakukan clustering menggunakan algoritma K-Means. Tapi ternyata saat melakukan clustering, penulis menemukan data outlier yang merusak proses clustering. Untuk lebih lengkapnya terhadap data outlier, akan di jawab di nomor 6. Oleh karena itu, sebelum melakukan clustering, penulis menghilangkan terlebih dahulu data outlier tersebut agar data bersifat konsisten dan proses pengkategorian lebih akurat. Berikut adalah grafik hasil dari clustering menggunakan algoritma K-Means :"
   ]
  },
  {
   "cell_type": "code",
   "execution_count": 27,
   "metadata": {},
   "outputs": [
    {
     "data": {
      "image/png": "[encoded data removed]",
      "text/plain": [
       "<Figure size 432x360 with 1 Axes>"
      ]
     },
     "metadata": {},
     "output_type": "display_data"
    }
   ],
   "source": [
    "from sklearn.cluster import KMeans\n",
    "import numpy as np\n",
    "\n",
    "plt.rcParams['figure.figsize'] = (6, 5)\n",
    "plt.style.use('ggplot')\n",
    "\n",
    "k1 = df['Kilometers_Driven'].values\n",
    "k2 = df['Kilometers_Driven'].values\n",
    "K = np.array(list(zip(k1, k2)))\n",
    "#plt.scatter(f1, f2, c='black', s=7)\n",
    "\n",
    "kmeans3 = KMeans(n_clusters=2)  \n",
    "kmeans3.fit(K)  \n",
    "plt.title(\"Grafik Clustering Batas Kilometer\")\n",
    "plt.scatter(K[:,0],K[:,1], c=kmeans3.labels_, cmap='rainbow')  \n",
    "plt.scatter(kmeans3.cluster_centers_[:,0] ,kmeans3.cluster_centers_[:,1], color='black', marker=\"X\", s=200)  \n",
    "kluster = kmeans3.labels_.tolist() # Results in a list similar to this: [0, 0, 1, 1]"
   ]
  },
  {
   "cell_type": "markdown",
   "metadata": {},
   "source": [
    "Terdapat 2 cluster, yaitu cluster batas jarak rendah dan batas jarak tinggi. Selanjutnya agar mengetahui batas dari kategori jarak rendah dan tinggi dari total data keseluruhan, penulis merubah hasil cluster tersebut ke bentuk dataframe agar lebih jelas melihat kategorinya. Berikut adalah dataframe yang telah penulis buat :"
   ]
  },
  {
   "cell_type": "code",
   "execution_count": 29,
   "metadata": {},
   "outputs": [
    {
     "data": {
      "text/html": [
       "<div>\n",
       "<style scoped>\n",
       "    .dataframe tbody tr th:only-of-type {\n",
       "        vertical-align: middle;\n",
       "    }\n",
       "\n",
       "    .dataframe tbody tr th {\n",
       "        vertical-align: top;\n",
       "    }\n",
       "\n",
       "    .dataframe thead th {\n",
       "        text-align: right;\n",
       "    }\n",
       "</style>\n",
       "<table border=\"1\" class=\"dataframe\">\n",
       "  <thead>\n",
       "    <tr style=\"text-align: right;\">\n",
       "      <th></th>\n",
       "      <th>Kilometers Driven</th>\n",
       "      <th>Kluster</th>\n",
       "    </tr>\n",
       "  </thead>\n",
       "  <tbody>\n",
       "    <tr>\n",
       "      <td>0</td>\n",
       "      <td>72000</td>\n",
       "      <td>Rendah</td>\n",
       "    </tr>\n",
       "    <tr>\n",
       "      <td>1</td>\n",
       "      <td>41000</td>\n",
       "      <td>Rendah</td>\n",
       "    </tr>\n",
       "    <tr>\n",
       "      <td>2</td>\n",
       "      <td>46000</td>\n",
       "      <td>Rendah</td>\n",
       "    </tr>\n",
       "    <tr>\n",
       "      <td>3</td>\n",
       "      <td>87000</td>\n",
       "      <td>Tinggi</td>\n",
       "    </tr>\n",
       "    <tr>\n",
       "      <td>4</td>\n",
       "      <td>40670</td>\n",
       "      <td>Rendah</td>\n",
       "    </tr>\n",
       "    <tr>\n",
       "      <td>...</td>\n",
       "      <td>...</td>\n",
       "      <td>...</td>\n",
       "    </tr>\n",
       "    <tr>\n",
       "      <td>6013</td>\n",
       "      <td>27365</td>\n",
       "      <td>Rendah</td>\n",
       "    </tr>\n",
       "    <tr>\n",
       "      <td>6014</td>\n",
       "      <td>100000</td>\n",
       "      <td>Tinggi</td>\n",
       "    </tr>\n",
       "    <tr>\n",
       "      <td>6015</td>\n",
       "      <td>55000</td>\n",
       "      <td>Rendah</td>\n",
       "    </tr>\n",
       "    <tr>\n",
       "      <td>6016</td>\n",
       "      <td>46000</td>\n",
       "      <td>Rendah</td>\n",
       "    </tr>\n",
       "    <tr>\n",
       "      <td>6017</td>\n",
       "      <td>47000</td>\n",
       "      <td>Rendah</td>\n",
       "    </tr>\n",
       "  </tbody>\n",
       "</table>\n",
       "<p>6018 rows × 2 columns</p>\n",
       "</div>"
      ],
      "text/plain": [
       "      Kilometers Driven Kluster\n",
       "0                 72000  Rendah\n",
       "1                 41000  Rendah\n",
       "2                 46000  Rendah\n",
       "3                 87000  Tinggi\n",
       "4                 40670  Rendah\n",
       "...                 ...     ...\n",
       "6013              27365  Rendah\n",
       "6014             100000  Tinggi\n",
       "6015              55000  Rendah\n",
       "6016              46000  Rendah\n",
       "6017              47000  Rendah\n",
       "\n",
       "[6018 rows x 2 columns]"
      ]
     },
     "execution_count": 29,
     "metadata": {},
     "output_type": "execute_result"
    }
   ],
   "source": [
    "labelKluster = []\n",
    "\n",
    "nomor = 0\n",
    "for i in kluster:\n",
    "    \n",
    "    if i > 0:\n",
    "        labelKluster.append('Rendah')\n",
    "    else:\n",
    "        labelKluster.append('Tinggi')\n",
    "        \n",
    "    nomor += 1\n",
    "        \n",
    "df1 = pd.DataFrame({'Kilometers Driven': df['Kilometers_Driven'].values, 'Kluster':labelKluster})\n",
    "df1"
   ]
  },
  {
   "cell_type": "markdown",
   "metadata": {},
   "source": [
    "Setelah mengetahui kategori setiap jarak, maka saatnya menentukan batas akhir yang membedakan antara kategori rendah dan tinggi. Penulis mengurutkan nilai pada dataframe, dan mencari nilai kategori rendah tertinggi, dan nilai kategori tinggi terendah (Tujuannya untuk mencari batas akhir yg paling tepat). Lalu didapatkan bahwa batas bahwa sebuah kendaraan dapat dikategorikan memiliki total kilometer jarak rendah yaitu adalah dibawah sekitar 73100 KM. Sedangkan dapat dikategorikan memiliki total kilometer jarak tinggi yaitu diatas sekitar 73150 KM. Dapat dilihat pada dataframe berikut:"
   ]
  },
  {
   "cell_type": "code",
   "execution_count": 30,
   "metadata": {},
   "outputs": [
    {
     "name": "stdout",
     "output_type": "stream",
     "text": [
      "4532\n"
     ]
    }
   ],
   "source": [
    "df1 = df1.sort_values(by=['Kilometers Driven'])\n",
    "\n",
    "nomor = 0\n",
    "for i in df1['Kluster']:\n",
    "    if i == 'Tinggi':\n",
    "        print(nomor)\n",
    "        break\n",
    "    \n",
    "    nomor += 1"
   ]
  },
  {
   "cell_type": "code",
   "execution_count": 31,
   "metadata": {},
   "outputs": [
    {
     "data": {
      "text/html": [
       "<div>\n",
       "<style scoped>\n",
       "    .dataframe tbody tr th:only-of-type {\n",
       "        vertical-align: middle;\n",
       "    }\n",
       "\n",
       "    .dataframe tbody tr th {\n",
       "        vertical-align: top;\n",
       "    }\n",
       "\n",
       "    .dataframe thead th {\n",
       "        text-align: right;\n",
       "    }\n",
       "</style>\n",
       "<table border=\"1\" class=\"dataframe\">\n",
       "  <thead>\n",
       "    <tr style=\"text-align: right;\">\n",
       "      <th></th>\n",
       "      <th>Kilometers Driven</th>\n",
       "      <th>Kluster</th>\n",
       "    </tr>\n",
       "  </thead>\n",
       "  <tbody>\n",
       "    <tr>\n",
       "      <td>338</td>\n",
       "      <td>73000</td>\n",
       "      <td>Rendah</td>\n",
       "    </tr>\n",
       "    <tr>\n",
       "      <td>2626</td>\n",
       "      <td>73000</td>\n",
       "      <td>Rendah</td>\n",
       "    </tr>\n",
       "    <tr>\n",
       "      <td>5228</td>\n",
       "      <td>73000</td>\n",
       "      <td>Rendah</td>\n",
       "    </tr>\n",
       "    <tr>\n",
       "      <td>2349</td>\n",
       "      <td>73000</td>\n",
       "      <td>Rendah</td>\n",
       "    </tr>\n",
       "    <tr>\n",
       "      <td>3550</td>\n",
       "      <td>73000</td>\n",
       "      <td>Rendah</td>\n",
       "    </tr>\n",
       "    <tr>\n",
       "      <td>2371</td>\n",
       "      <td>73000</td>\n",
       "      <td>Rendah</td>\n",
       "    </tr>\n",
       "    <tr>\n",
       "      <td>5936</td>\n",
       "      <td>73000</td>\n",
       "      <td>Rendah</td>\n",
       "    </tr>\n",
       "    <tr>\n",
       "      <td>1377</td>\n",
       "      <td>73003</td>\n",
       "      <td>Rendah</td>\n",
       "    </tr>\n",
       "    <tr>\n",
       "      <td>3617</td>\n",
       "      <td>73042</td>\n",
       "      <td>Rendah</td>\n",
       "    </tr>\n",
       "    <tr>\n",
       "      <td>5858</td>\n",
       "      <td>73053</td>\n",
       "      <td>Rendah</td>\n",
       "    </tr>\n",
       "    <tr>\n",
       "      <td>1889</td>\n",
       "      <td>73070</td>\n",
       "      <td>Rendah</td>\n",
       "    </tr>\n",
       "    <tr>\n",
       "      <td>3688</td>\n",
       "      <td>73095</td>\n",
       "      <td>Rendah</td>\n",
       "    </tr>\n",
       "    <tr>\n",
       "      <td>3711</td>\n",
       "      <td>73187</td>\n",
       "      <td>Tinggi</td>\n",
       "    </tr>\n",
       "    <tr>\n",
       "      <td>2671</td>\n",
       "      <td>73200</td>\n",
       "      <td>Tinggi</td>\n",
       "    </tr>\n",
       "    <tr>\n",
       "      <td>1837</td>\n",
       "      <td>73204</td>\n",
       "      <td>Tinggi</td>\n",
       "    </tr>\n",
       "    <tr>\n",
       "      <td>1092</td>\n",
       "      <td>73204</td>\n",
       "      <td>Tinggi</td>\n",
       "    </tr>\n",
       "    <tr>\n",
       "      <td>4013</td>\n",
       "      <td>73212</td>\n",
       "      <td>Tinggi</td>\n",
       "    </tr>\n",
       "    <tr>\n",
       "      <td>2188</td>\n",
       "      <td>73278</td>\n",
       "      <td>Tinggi</td>\n",
       "    </tr>\n",
       "    <tr>\n",
       "      <td>3890</td>\n",
       "      <td>73314</td>\n",
       "      <td>Tinggi</td>\n",
       "    </tr>\n",
       "    <tr>\n",
       "      <td>2985</td>\n",
       "      <td>73336</td>\n",
       "      <td>Tinggi</td>\n",
       "    </tr>\n",
       "  </tbody>\n",
       "</table>\n",
       "</div>"
      ],
      "text/plain": [
       "      Kilometers Driven Kluster\n",
       "338               73000  Rendah\n",
       "2626              73000  Rendah\n",
       "5228              73000  Rendah\n",
       "2349              73000  Rendah\n",
       "3550              73000  Rendah\n",
       "2371              73000  Rendah\n",
       "5936              73000  Rendah\n",
       "1377              73003  Rendah\n",
       "3617              73042  Rendah\n",
       "5858              73053  Rendah\n",
       "1889              73070  Rendah\n",
       "3688              73095  Rendah\n",
       "3711              73187  Tinggi\n",
       "2671              73200  Tinggi\n",
       "1837              73204  Tinggi\n",
       "1092              73204  Tinggi\n",
       "4013              73212  Tinggi\n",
       "2188              73278  Tinggi\n",
       "3890              73314  Tinggi\n",
       "2985              73336  Tinggi"
      ]
     },
     "execution_count": 31,
     "metadata": {},
     "output_type": "execute_result"
    }
   ],
   "source": [
    "df1.iloc[4520:4540]"
   ]
  },
  {
   "cell_type": "markdown",
   "metadata": {},
   "source": [
    "### Question 6\n",
    "Apakah terdapat outlier pada kolom Kilometers_Driven ? Sertakan argument yang mendukung jawaban"
   ]
  },
  {
   "cell_type": "code",
   "execution_count": 32,
   "metadata": {},
   "outputs": [
    {
     "data": {
      "image/png": "[encoded data removed]",
      "text/plain": [
       "<Figure size 432x360 with 1 Axes>"
      ]
     },
     "metadata": {},
     "output_type": "display_data"
    },
    {
     "name": "stdout",
     "output_type": "stream",
     "text": [
      "Baris ke - : 2328\n",
      "Jumlah Kilometer : 6500000\n"
     ]
    }
   ],
   "source": [
    "df = pd.read_csv(r\"C:\\Users\\Aufar\\Documents\\edm\\used_car_data.csv\") #Membaca Data terlebih dahulu\n",
    "#6. Data Outlier \n",
    "\n",
    "plt.rcParams['figure.figsize'] = (6, 5)\n",
    "plt.style.use('ggplot')\n",
    "\n",
    "k1 = df['Kilometers_Driven'].values\n",
    "k2 = df['Kilometers_Driven'].values\n",
    "K = np.array(list(zip(k1, k2)))\n",
    "#plt.scatter(f1, f2, c='black', s=7)\n",
    "\n",
    "kmeans3 = KMeans(n_clusters=2)  \n",
    "kmeans3.fit(K)  \n",
    "plt.title(\"Grafik Clustering Batas Kilometer\")\n",
    "plt.scatter(K[:,0],K[:,1], c=kmeans3.labels_, cmap='rainbow')  \n",
    "plt.scatter(kmeans3.cluster_centers_[:,0] ,kmeans3.cluster_centers_[:,1], color='black', marker=\"X\", s=200)  \n",
    "kluster = kmeans3.labels_.tolist() # Results in a list similar to this: [0, 0, 1, 1]\n",
    "plt.show()\n",
    "\n",
    "nomor = 0\n",
    "for i in kluster:\n",
    "    \n",
    "    if i > 0:\n",
    "        print(\"Baris ke - : \" + str(nomor))\n",
    "        print(\"Jumlah Kilometer : \" + str(df['Kilometers_Driven'][nomor]))\n",
    "        \n",
    "    nomor+=1"
   ]
  },
  {
   "cell_type": "markdown",
   "metadata": {},
   "source": [
    "Seperti pada nomor 5 yang telah penulis jelaskan sebelumnya, bahwa penulis menemukan data outlier saat melakukan clustering. Tepatnya, data outlier tersebut berada pada baris ke 2328, dengan total kilometer yaitu 6.500.000. Tentunya, data ini sangat jauh nilai nya dengan total kilometer lainnya yang dapat merusak proses clustering. Grafik diatas merupakan tahap dimana penulis menemukan data outlier, dan mencari nilai data tersebut."
   ]
  },
  {
   "cell_type": "markdown",
   "metadata": {},
   "source": [
    "### Question 7\n",
    "Apakah tahun pembuatan mobil berpengaruh terhadap total jarak pemakaian? "
   ]
  },
  {
   "cell_type": "code",
   "execution_count": 46,
   "metadata": {},
   "outputs": [
    {
     "data": {
      "text/plain": [
       "<matplotlib.axes._subplots.AxesSubplot at 0x1991d7ecf48>"
      ]
     },
     "execution_count": 46,
     "metadata": {},
     "output_type": "execute_result"
    },
    {
     "data": {
      "image/png": "[encoded data removed]",
      "text/plain": [
       "<Figure size 576x360 with 1 Axes>"
      ]
     },
     "metadata": {},
     "output_type": "display_data"
    }
   ],
   "source": [
    "df[['Year','Kilometers_Driven']].corr()['Year']\n",
    "dft = df[['Year','Kilometers_Driven']].groupby(['Year']).mean().reset_index()\n",
    "# dft.plot.line(x='Year', y='Kilometers_Driven', figsize=(8,5))\n",
    "dft.plot.line(x='Year', y='Kilometers_Driven', figsize=(8,5),xticks=[2000,2005,2010,2015,2020])\n",
    "# dft['Year'].value_counts()"
   ]
  },
  {
   "cell_type": "markdown",
   "metadata": {},
   "source": [
    "### Question 8\n",
    "Berapa banyak mobil yang merupakan kepemilikan ketiga atau lebih ?"
   ]
  },
  {
   "cell_type": "code",
   "execution_count": 47,
   "metadata": {},
   "outputs": [
    {
     "data": {
      "image/png": "[encoded data removed]",
      "text/plain": [
       "<Figure size 504x360 with 1 Axes>"
      ]
     },
     "metadata": {},
     "output_type": "display_data"
    }
   ],
   "source": [
    "ax = df['Owner_Type'].value_counts().plot(kind='bar', figsize=(7,5), color ='orange')\n",
    "plt.xlabel('Owner Type', fontsize=18)\n",
    "plt.ylabel('Frequency', fontsize=18)\n",
    "\n",
    "for p in ax.patches:\n",
    "    ax.annotate(str(p.get_height()), (p.get_x()+0.145, p.get_height() * 1.01))"
   ]
  },
  {
   "cell_type": "code",
   "execution_count": 48,
   "metadata": {},
   "outputs": [
    {
     "name": "stdout",
     "output_type": "stream",
     "text": [
      "Total mobil dengan kepemilikian orang ketiga atau lebih sebanyak: 122\n"
     ]
    }
   ],
   "source": [
    "freq_type = df['Owner_Type'].value_counts()[2]+df['Owner_Type'].value_counts()[3]\n",
    "print('Total mobil dengan kepemilikian orang ketiga atau lebih sebanyak: '+str(freq_type))"
   ]
  },
  {
   "cell_type": "markdown",
   "metadata": {},
   "source": [
    "Kita bisa mengetahui kepemilikan dari sebuah mobil dengan cara melihat pada kolom “Owner_Type”. Pada kolom tersebut diisi dengan 4 jenis nilai yaitu “first, second, third, danfourth & above”. Sehingga disini kita diminta untuk menghitung jumlah mobil dengan nilai Owner_Type third dan fourth & above. Berdasarkan nilai yang dihasilkan oleh grafik diatas, bisa kita simpulkan bahwa mobil dengan status kepemilikan orang ke-tiga atau lebih sebanyak 122 mobil."
   ]
  },
  {
   "cell_type": "markdown",
   "metadata": {},
   "source": [
    "### Question 9\n",
    "Tipe bahan bakar apa yang memiliki mileage (konsumsi bahan bakar) paling hemat ?"
   ]
  },
  {
   "cell_type": "code",
   "execution_count": 49,
   "metadata": {},
   "outputs": [
    {
     "name": "stdout",
     "output_type": "stream",
     "text": [
      "<class 'pandas.core.frame.DataFrame'>\n",
      "RangeIndex: 6019 entries, 0 to 6018\n",
      "Data columns (total 13 columns):\n",
      "Name                 6019 non-null object\n",
      "Location             6019 non-null object\n",
      "Year                 6019 non-null int64\n",
      "Kilometers_Driven    6019 non-null int64\n",
      "Fuel_Type            6019 non-null object\n",
      "Transmission         6019 non-null object\n",
      "Owner_Type           6019 non-null object\n",
      "Mileage              6017 non-null object\n",
      "Engine               5983 non-null object\n",
      "Power                5983 non-null object\n",
      "Seats                5977 non-null float64\n",
      "Price                6019 non-null float64\n",
      "Mileage_number       6017 non-null float64\n",
      "dtypes: float64(3), int64(2), object(8)\n",
      "memory usage: 611.4+ KB\n"
     ]
    }
   ],
   "source": [
    "df_mileage = df.copy()\n",
    "df_mileage['Mileage_number'] = df_mileage.Mileage.str.split().str.get(0)\n",
    "df_mileage['Mileage_number'] = df_mileage['Mileage_number'].astype(float)\n",
    "df_mileage.info()"
   ]
  },
  {
   "cell_type": "markdown",
   "metadata": {},
   "source": [
    "Tipe bahan bakar dan mileage pada data bisa dilihat dari kolom “Fuel_Type” dan “Mileage”. Berdasarkan pokok permasalah yang diberikan, kita bisa mendapatkan Tipe bahan bakar paling hemat dengan cara mencari mileage minimum dari keseluruhan data. Untuk mempermudah dalam menganalisis data maka dibuatlah histogram penggunaan bahan bakar dimana grafik menunjukan data sebagai berikut."
   ]
  },
  {
   "cell_type": "code",
   "execution_count": 50,
   "metadata": {},
   "outputs": [
    {
     "data": {
      "image/png": "[encoded data removed]",
      "text/plain": [
       "<Figure size 504x360 with 1 Axes>"
      ]
     },
     "metadata": {},
     "output_type": "display_data"
    }
   ],
   "source": [
    "ax = df_mileage['Mileage_number'].plot(kind='hist',figsize=(7,5), color ='orange')\n",
    "for p in ax.patches:\n",
    "    ax.annotate(str(p.get_height()), (p.get_x()+0.145, p.get_height() * 1.01))"
   ]
  },
  {
   "cell_type": "markdown",
   "metadata": {},
   "source": [
    "Langkah selanjutnya adalah mencari nilai minimum dari mileage pada data dan ternyata nilai minimumnya adalah 0.0 kmpl. Menurut penulis data ini tidak wajar, hal ini karena tidak mungkin kendaraan tidak mengkonsumsi bahan bakar kecuali kendaraan tersebut merupakan kendaraan elektrik. Setelah dilihat datanya, ternyata setiap kendaraan dengan mileage 0.0 kmpl, memiliki tipe bahan bakar. Hal ini berarti asumsi pertama akan mobil elektrik tidak bisa digunakan, sehingga mobil dengan mileage 0.0 dianggap outlier dan harus dihapus. Langkah selanjutnya tetap sama yaitu mencari mileage minimum, dan diperoleh sebuah kendaraan dengan  nilai mileage sebesar 6.4 kmpl berbahan bakar petrol. Sehingga dapat disimpulkan bahwa petrol lah bahan bakar yang memiliki mileage paling hemat. "
   ]
  },
  {
   "cell_type": "markdown",
   "metadata": {},
   "source": [
    "### Question 10\n",
    "Apa saja faktor faktor yang mempengaruhi harga mobil bekas di India? Sertakan argumen yang mendukung jawaban"
   ]
  },
  {
   "cell_type": "code",
   "execution_count": 51,
   "metadata": {},
   "outputs": [
    {
     "data": {
      "text/html": [
       "<div>\n",
       "<style scoped>\n",
       "    .dataframe tbody tr th:only-of-type {\n",
       "        vertical-align: middle;\n",
       "    }\n",
       "\n",
       "    .dataframe tbody tr th {\n",
       "        vertical-align: top;\n",
       "    }\n",
       "\n",
       "    .dataframe thead th {\n",
       "        text-align: right;\n",
       "    }\n",
       "</style>\n",
       "<table border=\"1\" class=\"dataframe\">\n",
       "  <thead>\n",
       "    <tr style=\"text-align: right;\">\n",
       "      <th></th>\n",
       "      <th>Feature</th>\n",
       "      <th>Price</th>\n",
       "    </tr>\n",
       "  </thead>\n",
       "  <tbody>\n",
       "    <tr>\n",
       "      <td>0</td>\n",
       "      <td>Price</td>\n",
       "      <td>1.000000</td>\n",
       "    </tr>\n",
       "    <tr>\n",
       "      <td>1</td>\n",
       "      <td>Transmission_Automatic</td>\n",
       "      <td>0.586025</td>\n",
       "    </tr>\n",
       "    <tr>\n",
       "      <td>2</td>\n",
       "      <td>Engine_2993 CC</td>\n",
       "      <td>0.335968</td>\n",
       "    </tr>\n",
       "    <tr>\n",
       "      <td>3</td>\n",
       "      <td>Fuel_Type_Diesel</td>\n",
       "      <td>0.320645</td>\n",
       "    </tr>\n",
       "    <tr>\n",
       "      <td>4</td>\n",
       "      <td>Year</td>\n",
       "      <td>0.305327</td>\n",
       "    </tr>\n",
       "    <tr>\n",
       "      <td>5</td>\n",
       "      <td>Engine_2967 CC</td>\n",
       "      <td>0.261579</td>\n",
       "    </tr>\n",
       "  </tbody>\n",
       "</table>\n",
       "</div>"
      ],
      "text/plain": [
       "                  Feature     Price\n",
       "0                   Price  1.000000\n",
       "1  Transmission_Automatic  0.586025\n",
       "2          Engine_2993 CC  0.335968\n",
       "3        Fuel_Type_Diesel  0.320645\n",
       "4                    Year  0.305327\n",
       "5          Engine_2967 CC  0.261579"
      ]
     },
     "execution_count": 51,
     "metadata": {},
     "output_type": "execute_result"
    }
   ],
   "source": [
    "pd.get_dummies(df.drop('Name',axis=1)).corr()['Price'].sort_values(ascending=False).head(6).to_frame().rename_axis('Feature').reset_index()"
   ]
  },
  {
   "cell_type": "markdown",
   "metadata": {},
   "source": [
    "Dataframe diatas merupakan hasil penghitungan dengan menggunakan metode corr() . Berdasarkan tabel tersebut didapat informasi bahwa 5 feature yang paling mempengaruhi harga mobil yaitu Power, Engine, Transmission, Brand, dan Fuel Type"
   ]
  }
 ],
 "metadata": {
  "kernelspec": {
   "display_name": "Python 3",
   "language": "python",
   "name": "python3"
  },
  "language_info": {
   "codemirror_mode": {
    "name": "ipython",
    "version": 3
   },
   "file_extension": ".py",
   "mimetype": "text/x-python",
   "name": "python",
   "nbconvert_exporter": "python",
   "pygments_lexer": "ipython3",
   "version": "3.7.4"
  }
 },
 "nbformat": 4,
 "nbformat_minor": 2
}
